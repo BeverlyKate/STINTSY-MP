{
 "cells": [
  {
   "cell_type": "code",
   "execution_count": 1,
   "id": "2a5f0314-b132-439d-9f8b-aa8255281a7c",
   "metadata": {},
   "outputs": [
    {
     "name": "stdout",
     "output_type": "stream",
     "text": [
      "C:\\Users\\Lenovo\\anaconda3\\python.exe\n"
     ]
    }
   ],
   "source": [
    "import sys\n",
    "print(sys.executable)\n"
   ]
  },
  {
   "cell_type": "code",
   "execution_count": 5,
   "id": "5cca6b8d-cfc3-4d48-807e-187473ed1caa",
   "metadata": {},
   "outputs": [
    {
     "name": "stdout",
     "output_type": "stream",
     "text": [
      "optuna                    4.2.1\n"
     ]
    }
   ],
   "source": [
    "!pip list | findstr optuna\n"
   ]
  },
  {
   "cell_type": "code",
   "execution_count": null,
   "id": "f2e7d526-81b5-43d2-9405-4fc4199385c8",
   "metadata": {},
   "outputs": [],
   "source": [
    "!C:\\Users\\lenovo\\anaconda3\\python.exe -m pip install optuna\n"
   ]
  },
  {
   "cell_type": "code",
   "execution_count": null,
   "id": "b242997b-f195-4fee-aa5d-93888d3bf81d",
   "metadata": {},
   "outputs": [],
   "source": []
  }
 ],
 "metadata": {
  "kernelspec": {
   "display_name": "Python 3 (ipykernel)",
   "language": "python",
   "name": "python3"
  },
  "language_info": {
   "codemirror_mode": {
    "name": "ipython",
    "version": 3
   },
   "file_extension": ".py",
   "mimetype": "text/x-python",
   "name": "python",
   "nbconvert_exporter": "python",
   "pygments_lexer": "ipython3",
   "version": "3.12.3"
  }
 },
 "nbformat": 4,
 "nbformat_minor": 5
}
