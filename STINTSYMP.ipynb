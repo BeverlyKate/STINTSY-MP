{
 "cells": [
  {
   "cell_type": "markdown",
   "metadata": {
    "id": "s8H8-vqbG6I_"
   },
   "source": [
    "# Introduction"
   ]
  },
  {
   "cell_type": "markdown",
   "metadata": {
    "id": "AJ_QdVYVHLnf"
   },
   "source": [
    "The dataset utilized is the Family Income and Expenditure Survey 2012 Vol 1."
   ]
  },
  {
   "cell_type": "markdown",
   "metadata": {
    "id": "u4J-5tPHHMiQ"
   },
   "source": [
    "# Dataset"
   ]
  },
  {
   "cell_type": "markdown",
   "metadata": {
    "id": "wYx6XzMmHWqd"
   },
   "source": [
    "The Family Income and Expenditure Survey (FIES) 2012 is a national survey conducted by the Philippine Statistics Authority (PSA) to gather comprehensive data on family income and spending patterns across households in the Philippines. The dataset provides insights into income distribution, expenditure habits, and economic well-being, helping policymakers, researchers, and analysts assess poverty levels, economic growth, and financial behavior among Filipino households."
   ]
  },
  {
   "cell_type": "markdown",
   "metadata": {
    "id": "__6ebpMSHQcL"
   },
   "source": [
    "# Python Libaries and Modules"
   ]
  },
  {
   "cell_type": "code",
   "execution_count": 2,
   "metadata": {
    "executionInfo": {
     "elapsed": 13,
     "status": "ok",
     "timestamp": 1742031434064,
     "user": {
      "displayName": "Joaquin Andres Rodriguez",
      "userId": "10473083297834192702"
     },
     "user_tz": -480
    },
    "id": "tYCf95H0LaIx"
   },
   "outputs": [],
   "source": [
    "import pandas as pd\n",
    "import matplotlib.pyplot as plt\n",
    "import seaborn as sns"
   ]
  },
  {
   "cell_type": "markdown",
   "metadata": {
    "id": "0b8px8NUKfJu"
   },
   "source": []
  },
  {
   "cell_type": "markdown",
   "metadata": {
    "id": "F6teVMegHYRw"
   },
   "source": [
    "# Data Preprocessing and Cleaning"
   ]
  },
  {
   "cell_type": "markdown",
   "metadata": {
    "id": "haWQyygMCUVl"
   },
   "source": [
    "The data was preprocessed and cleaned through these methods in order:"
   ]
  },
  {
   "cell_type": "markdown",
   "metadata": {
    "id": "-p99tV_cHdjz"
   },
   "source": [
    "**1.) Standardizing Column Names**\n",
    "- Column names were stripped of whitespace, converted to uppercase, and spaces were replaced with underscores to ensure consistency and avoid potential errors when referencing column names in code."
   ]
  },
  {
   "cell_type": "markdown",
   "metadata": {
    "id": "E5-fwgm7CaZV"
   },
   "source": [
    "**2.) Handling Missing Values**\n",
    "- Columns with more than 50% missing values were dropped.\n",
    "For numerical columns, missing values were filled with the median of the respective column.\n",
    "For categorical columns, missing values were filled with the mode (most frequent value).\n",
    "- Dropping columns with excessive missing values prevents misleading analysis.\n",
    "Using the median for numerical data avoids the influence of outliers.\n",
    "Using the mode for categorical data preserves the most common category.\n",
    "- Asset ownership features that did not have any input were assumed to have a value of 0 (meaning they do not own that item)."
   ]
  },
  {
   "cell_type": "markdown",
   "metadata": {
    "id": "h057up-xCqXk"
   },
   "source": [
    "**3.) Removing Duplicates**\n",
    "- Duplicate rows were removed as they could distort results and introduce bias."
   ]
  },
  {
   "cell_type": "markdown",
   "metadata": {
    "id": "9TMCBaszC4s2"
   },
   "source": [
    "**4.) Converting Data Types**\n",
    "- Categorical columns (e.g., region, employment status, household type) were converted to category type.\n",
    "Income and expenditure columns were converted to float.\n",
    "- Converting numerical columns to float ensures compatibility with mathematical operations whilst categorical columns were converted to category type for easier referencing."
   ]
  },
  {
   "cell_type": "markdown",
   "metadata": {
    "id": "nlTcp2CdDKF0"
   },
   "source": [
    "**5.) Handling Outliers**\n",
    "- The Interquartile Range (IQR) method was used to cap extreme values:\n",
    "Values below Q1 - 1.5 * IQR were replaced with the lower bound.\n",
    "Values above Q3 + 1.5 * IQR were replaced with the upper bound.\n",
    "- Outliers can distort statistical analysis and machine learning models.\n",
    "The IQR method retains the distribution's general shape while reducing the influence of extreme values."
   ]
  },
  {
   "cell_type": "markdown",
   "metadata": {
    "id": "LuuZxv5hHd_k"
   },
   "source": [
    "# Exploratory Data Analysis\n",
    "\n"
   ]
  },
  {
   "cell_type": "markdown",
   "metadata": {
    "id": "C65nkJtJHiH_"
   },
   "source": [
    "Sanity check if there are missing values left in the cleaned dataset file"
   ]
  },
  {
   "cell_type": "code",
   "execution_count": 3,
   "metadata": {
    "colab": {
     "base_uri": "https://localhost:8080/"
    },
    "executionInfo": {
     "elapsed": 96,
     "status": "ok",
     "timestamp": 1742031434154,
     "user": {
      "displayName": "Joaquin Andres Rodriguez",
      "userId": "10473083297834192702"
     },
     "user_tz": -480
    },
    "id": "NKRXpLCZMRiu",
    "outputId": "e2492840-7e2e-43f2-bc91-207e9d40605d"
   },
   "outputs": [
    {
     "name": "stdout",
     "output_type": "stream",
     "text": [
      "Missing values per column:\n",
      " Series([], dtype: int64)\n",
      "Columns with Missing Values and Their Data Types:\n",
      "\n",
      "Empty DataFrame\n",
      "Columns: [Missing Values, Data Type]\n",
      "Index: []\n"
     ]
    }
   ],
   "source": [
    "incexp_df = pd.read_csv(\"FIES_2012_Cleaned.csv\")\n",
    "\n",
    "missing_values = incexp_df.isnull().sum()\n",
    "print(\"Missing values per column:\\n\", missing_values[missing_values > 0])\n",
    "# Get data types of each column\n",
    "data_types = incexp_df.dtypes\n",
    "\n",
    "# Display columns with missing values along with their data types\n",
    "missing_data_info = pd.DataFrame({\n",
    "    \"Missing Values\": missing_values[missing_values > 0],\n",
    "    \"Data Type\": data_types[missing_values > 0]\n",
    "})\n",
    "\n",
    "print(\"Columns with Missing Values and Their Data Types:\\n\")\n",
    "print(missing_data_info)"
   ]
  },
  {
   "cell_type": "code",
   "execution_count": 4,
   "metadata": {},
   "outputs": [],
   "source": [
    "# Get unique values for columns with missing values\n",
    "missing_columns = missing_values[missing_values > 0].index\n",
    "unique_values = {col: incexp_df[col].dropna().unique() for col in missing_columns}\n",
    "\n",
    "# Display unique values\n",
    "for column, values in unique_values.items():\n",
    "    print(f\"Column: {column}\")\n",
    "    print(f\"Unique Values: {values[:10]}\")  # Display only first 10 unique values for readability\n",
    "    print(\"-\" * 50)"
   ]
  },
  {
   "cell_type": "code",
   "execution_count": 5,
   "metadata": {},
   "outputs": [
    {
     "name": "stdout",
     "output_type": "stream",
     "text": [
      "[0. 3. 4. 1. 2. 7. 6. 5.]\n"
     ]
    }
   ],
   "source": [
    "# Assuming df is your DataFrame\n",
    "unique_values = incexp_df['CW'].unique()\n",
    "\n",
    "# Print the unique values\n",
    "print(unique_values)"
   ]
  },
  {
   "cell_type": "markdown",
   "metadata": {
    "id": "mJ_765ldtOtW"
   },
   "source": [
    "## Display Dataset/Table Information\n",
    "In order to familiarize ourselves with out dataset, we first display the info of our dataset using the `.info()` function. Here we can see the number of rows and columns and the variable type of each feature."
   ]
  },
  {
   "cell_type": "code",
   "execution_count": 6,
   "metadata": {
    "colab": {
     "base_uri": "https://localhost:8080/"
    },
    "executionInfo": {
     "elapsed": 5,
     "status": "ok",
     "timestamp": 1742031434158,
     "user": {
      "displayName": "Joaquin Andres Rodriguez",
      "userId": "10473083297834192702"
     },
     "user_tz": -480
    },
    "id": "b1S7NljFtUoz",
    "outputId": "ff4bf31d-2f0d-47ca-e347-26ecca5f6719"
   },
   "outputs": [
    {
     "name": "stdout",
     "output_type": "stream",
     "text": [
      "<class 'pandas.core.frame.DataFrame'>\n",
      "RangeIndex: 40171 entries, 0 to 40170\n",
      "Columns: 119 entries, W_REGN to REGPC\n",
      "dtypes: float64(78), int64(41)\n",
      "memory usage: 36.5 MB\n",
      "\n",
      "Rows and columns of the Dataset:\n",
      "(40171, 119)\n"
     ]
    }
   ],
   "source": [
    "# prints the info on the dataset\n",
    "incexp_df.info()\n",
    "\n",
    "# prints the rows and columns of the dataset\n",
    "print(\"\\nRows and columns of the Dataset:\")\n",
    "print(incexp_df.shape)"
   ]
  },
  {
   "cell_type": "markdown",
   "metadata": {
    "id": "E8IPjjDkzbMi"
   },
   "source": [
    "## Using `.head()` and `.tail()` function\n",
    "We use the head and tail function to see what are the first values and the last value of the dataset. This is to give an idea on what kind of values we are working with."
   ]
  },
  {
   "cell_type": "code",
   "execution_count": 7,
   "metadata": {
    "colab": {
     "base_uri": "https://localhost:8080/",
     "height": 255
    },
    "executionInfo": {
     "elapsed": 34,
     "status": "ok",
     "timestamp": 1742031434192,
     "user": {
      "displayName": "Joaquin Andres Rodriguez",
      "userId": "10473083297834192702"
     },
     "user_tz": -480
    },
    "id": "CEma8kqbz27D",
    "outputId": "c25824ad-6a9f-4d1b-9427-67b712937af1"
   },
   "outputs": [
    {
     "data": {
      "text/html": [
       "<div>\n",
       "<style scoped>\n",
       "    .dataframe tbody tr th:only-of-type {\n",
       "        vertical-align: middle;\n",
       "    }\n",
       "\n",
       "    .dataframe tbody tr th {\n",
       "        vertical-align: top;\n",
       "    }\n",
       "\n",
       "    .dataframe thead th {\n",
       "        text-align: right;\n",
       "    }\n",
       "</style>\n",
       "<table border=\"1\" class=\"dataframe\">\n",
       "  <thead>\n",
       "    <tr style=\"text-align: right;\">\n",
       "      <th></th>\n",
       "      <th>W_REGN</th>\n",
       "      <th>W_OID</th>\n",
       "      <th>W_SHSN</th>\n",
       "      <th>W_HCN</th>\n",
       "      <th>URB</th>\n",
       "      <th>RSTR</th>\n",
       "      <th>PSU</th>\n",
       "      <th>BWEIGHT</th>\n",
       "      <th>RFACT</th>\n",
       "      <th>FSIZE</th>\n",
       "      <th>...</th>\n",
       "      <th>PC_QTY</th>\n",
       "      <th>OVEN_QTY</th>\n",
       "      <th>MOTOR_BANCA_QTY</th>\n",
       "      <th>MOTORCYCLE_QTY</th>\n",
       "      <th>POP_ADJ</th>\n",
       "      <th>PCINC</th>\n",
       "      <th>NATPC</th>\n",
       "      <th>NATDC</th>\n",
       "      <th>REGDC</th>\n",
       "      <th>REGPC</th>\n",
       "    </tr>\n",
       "  </thead>\n",
       "  <tbody>\n",
       "    <tr>\n",
       "      <th>0</th>\n",
       "      <td>14</td>\n",
       "      <td>101001000</td>\n",
       "      <td>2</td>\n",
       "      <td>25</td>\n",
       "      <td>2</td>\n",
       "      <td>21100</td>\n",
       "      <td>415052</td>\n",
       "      <td>138.25</td>\n",
       "      <td>200.6576</td>\n",
       "      <td>3.0</td>\n",
       "      <td>...</td>\n",
       "      <td>1.0</td>\n",
       "      <td>1.0</td>\n",
       "      <td>0.0</td>\n",
       "      <td>0.0</td>\n",
       "      <td>0.946172</td>\n",
       "      <td>11.593749</td>\n",
       "      <td>9</td>\n",
       "      <td>8</td>\n",
       "      <td>8</td>\n",
       "      <td>9</td>\n",
       "    </tr>\n",
       "    <tr>\n",
       "      <th>1</th>\n",
       "      <td>14</td>\n",
       "      <td>101001000</td>\n",
       "      <td>3</td>\n",
       "      <td>43</td>\n",
       "      <td>2</td>\n",
       "      <td>21100</td>\n",
       "      <td>415052</td>\n",
       "      <td>138.25</td>\n",
       "      <td>200.6576</td>\n",
       "      <td>12.5</td>\n",
       "      <td>...</td>\n",
       "      <td>0.0</td>\n",
       "      <td>1.0</td>\n",
       "      <td>0.0</td>\n",
       "      <td>1.0</td>\n",
       "      <td>0.946172</td>\n",
       "      <td>10.329820</td>\n",
       "      <td>5</td>\n",
       "      <td>9</td>\n",
       "      <td>9</td>\n",
       "      <td>4</td>\n",
       "    </tr>\n",
       "    <tr>\n",
       "      <th>2</th>\n",
       "      <td>14</td>\n",
       "      <td>101001000</td>\n",
       "      <td>4</td>\n",
       "      <td>62</td>\n",
       "      <td>2</td>\n",
       "      <td>21100</td>\n",
       "      <td>415052</td>\n",
       "      <td>138.25</td>\n",
       "      <td>200.6576</td>\n",
       "      <td>2.0</td>\n",
       "      <td>...</td>\n",
       "      <td>0.0</td>\n",
       "      <td>1.0</td>\n",
       "      <td>0.0</td>\n",
       "      <td>0.0</td>\n",
       "      <td>0.946172</td>\n",
       "      <td>11.373589</td>\n",
       "      <td>9</td>\n",
       "      <td>6</td>\n",
       "      <td>6</td>\n",
       "      <td>8</td>\n",
       "    </tr>\n",
       "    <tr>\n",
       "      <th>3</th>\n",
       "      <td>14</td>\n",
       "      <td>101001000</td>\n",
       "      <td>5</td>\n",
       "      <td>79</td>\n",
       "      <td>2</td>\n",
       "      <td>21100</td>\n",
       "      <td>415052</td>\n",
       "      <td>138.25</td>\n",
       "      <td>200.6576</td>\n",
       "      <td>4.0</td>\n",
       "      <td>...</td>\n",
       "      <td>0.0</td>\n",
       "      <td>1.0</td>\n",
       "      <td>0.0</td>\n",
       "      <td>0.0</td>\n",
       "      <td>0.946172</td>\n",
       "      <td>10.676526</td>\n",
       "      <td>6</td>\n",
       "      <td>6</td>\n",
       "      <td>6</td>\n",
       "      <td>6</td>\n",
       "    </tr>\n",
       "    <tr>\n",
       "      <th>4</th>\n",
       "      <td>14</td>\n",
       "      <td>101001000</td>\n",
       "      <td>10</td>\n",
       "      <td>165</td>\n",
       "      <td>2</td>\n",
       "      <td>21100</td>\n",
       "      <td>415052</td>\n",
       "      <td>138.25</td>\n",
       "      <td>200.6576</td>\n",
       "      <td>5.0</td>\n",
       "      <td>...</td>\n",
       "      <td>0.0</td>\n",
       "      <td>0.0</td>\n",
       "      <td>0.0</td>\n",
       "      <td>1.0</td>\n",
       "      <td>0.946172</td>\n",
       "      <td>10.531637</td>\n",
       "      <td>6</td>\n",
       "      <td>6</td>\n",
       "      <td>6</td>\n",
       "      <td>5</td>\n",
       "    </tr>\n",
       "  </tbody>\n",
       "</table>\n",
       "<p>5 rows × 119 columns</p>\n",
       "</div>"
      ],
      "text/plain": [
       "   W_REGN      W_OID  W_SHSN  W_HCN  URB   RSTR     PSU  BWEIGHT     RFACT  \\\n",
       "0      14  101001000       2     25    2  21100  415052   138.25  200.6576   \n",
       "1      14  101001000       3     43    2  21100  415052   138.25  200.6576   \n",
       "2      14  101001000       4     62    2  21100  415052   138.25  200.6576   \n",
       "3      14  101001000       5     79    2  21100  415052   138.25  200.6576   \n",
       "4      14  101001000      10    165    2  21100  415052   138.25  200.6576   \n",
       "\n",
       "   FSIZE  ...  PC_QTY  OVEN_QTY  MOTOR_BANCA_QTY  MOTORCYCLE_QTY   POP_ADJ  \\\n",
       "0    3.0  ...     1.0       1.0              0.0             0.0  0.946172   \n",
       "1   12.5  ...     0.0       1.0              0.0             1.0  0.946172   \n",
       "2    2.0  ...     0.0       1.0              0.0             0.0  0.946172   \n",
       "3    4.0  ...     0.0       1.0              0.0             0.0  0.946172   \n",
       "4    5.0  ...     0.0       0.0              0.0             1.0  0.946172   \n",
       "\n",
       "       PCINC  NATPC  NATDC  REGDC  REGPC  \n",
       "0  11.593749      9      8      8      9  \n",
       "1  10.329820      5      9      9      4  \n",
       "2  11.373589      9      6      6      8  \n",
       "3  10.676526      6      6      6      6  \n",
       "4  10.531637      6      6      6      5  \n",
       "\n",
       "[5 rows x 119 columns]"
      ]
     },
     "execution_count": 7,
     "metadata": {},
     "output_type": "execute_result"
    }
   ],
   "source": [
    "incexp_df.head()"
   ]
  },
  {
   "cell_type": "code",
   "execution_count": 8,
   "metadata": {
    "colab": {
     "base_uri": "https://localhost:8080/",
     "height": 255
    },
    "executionInfo": {
     "elapsed": 43,
     "status": "ok",
     "timestamp": 1742031434235,
     "user": {
      "displayName": "Joaquin Andres Rodriguez",
      "userId": "10473083297834192702"
     },
     "user_tz": -480
    },
    "id": "Dx8iRTqW0dvd",
    "outputId": "9d166f6e-04b4-41b2-d3e5-0b05126ff5eb"
   },
   "outputs": [
    {
     "data": {
      "text/html": [
       "<div>\n",
       "<style scoped>\n",
       "    .dataframe tbody tr th:only-of-type {\n",
       "        vertical-align: middle;\n",
       "    }\n",
       "\n",
       "    .dataframe tbody tr th {\n",
       "        vertical-align: top;\n",
       "    }\n",
       "\n",
       "    .dataframe thead th {\n",
       "        text-align: right;\n",
       "    }\n",
       "</style>\n",
       "<table border=\"1\" class=\"dataframe\">\n",
       "  <thead>\n",
       "    <tr style=\"text-align: right;\">\n",
       "      <th></th>\n",
       "      <th>W_REGN</th>\n",
       "      <th>W_OID</th>\n",
       "      <th>W_SHSN</th>\n",
       "      <th>W_HCN</th>\n",
       "      <th>URB</th>\n",
       "      <th>RSTR</th>\n",
       "      <th>PSU</th>\n",
       "      <th>BWEIGHT</th>\n",
       "      <th>RFACT</th>\n",
       "      <th>FSIZE</th>\n",
       "      <th>...</th>\n",
       "      <th>PC_QTY</th>\n",
       "      <th>OVEN_QTY</th>\n",
       "      <th>MOTOR_BANCA_QTY</th>\n",
       "      <th>MOTORCYCLE_QTY</th>\n",
       "      <th>POP_ADJ</th>\n",
       "      <th>PCINC</th>\n",
       "      <th>NATPC</th>\n",
       "      <th>NATDC</th>\n",
       "      <th>REGDC</th>\n",
       "      <th>REGPC</th>\n",
       "    </tr>\n",
       "  </thead>\n",
       "  <tbody>\n",
       "    <tr>\n",
       "      <th>40166</th>\n",
       "      <td>12</td>\n",
       "      <td>9804029001</td>\n",
       "      <td>18</td>\n",
       "      <td>568</td>\n",
       "      <td>1</td>\n",
       "      <td>22000</td>\n",
       "      <td>114062</td>\n",
       "      <td>271.25</td>\n",
       "      <td>963.2264</td>\n",
       "      <td>5.0</td>\n",
       "      <td>...</td>\n",
       "      <td>0.0</td>\n",
       "      <td>0.0</td>\n",
       "      <td>0.0</td>\n",
       "      <td>0.0</td>\n",
       "      <td>0.902863</td>\n",
       "      <td>10.312367</td>\n",
       "      <td>5</td>\n",
       "      <td>5</td>\n",
       "      <td>7</td>\n",
       "      <td>7</td>\n",
       "    </tr>\n",
       "    <tr>\n",
       "      <th>40167</th>\n",
       "      <td>12</td>\n",
       "      <td>9804035000</td>\n",
       "      <td>1</td>\n",
       "      <td>25</td>\n",
       "      <td>2</td>\n",
       "      <td>22000</td>\n",
       "      <td>414067</td>\n",
       "      <td>271.25</td>\n",
       "      <td>588.6253</td>\n",
       "      <td>9.0</td>\n",
       "      <td>...</td>\n",
       "      <td>0.0</td>\n",
       "      <td>1.0</td>\n",
       "      <td>0.0</td>\n",
       "      <td>0.0</td>\n",
       "      <td>0.902863</td>\n",
       "      <td>9.572890</td>\n",
       "      <td>1</td>\n",
       "      <td>5</td>\n",
       "      <td>7</td>\n",
       "      <td>3</td>\n",
       "    </tr>\n",
       "    <tr>\n",
       "      <th>40168</th>\n",
       "      <td>12</td>\n",
       "      <td>9804035000</td>\n",
       "      <td>2</td>\n",
       "      <td>51</td>\n",
       "      <td>2</td>\n",
       "      <td>22000</td>\n",
       "      <td>414067</td>\n",
       "      <td>271.25</td>\n",
       "      <td>588.6253</td>\n",
       "      <td>6.0</td>\n",
       "      <td>...</td>\n",
       "      <td>0.0</td>\n",
       "      <td>0.0</td>\n",
       "      <td>0.0</td>\n",
       "      <td>0.0</td>\n",
       "      <td>0.902863</td>\n",
       "      <td>9.859448</td>\n",
       "      <td>3</td>\n",
       "      <td>4</td>\n",
       "      <td>6</td>\n",
       "      <td>4</td>\n",
       "    </tr>\n",
       "    <tr>\n",
       "      <th>40169</th>\n",
       "      <td>12</td>\n",
       "      <td>9804035000</td>\n",
       "      <td>3</td>\n",
       "      <td>75</td>\n",
       "      <td>2</td>\n",
       "      <td>22000</td>\n",
       "      <td>414067</td>\n",
       "      <td>271.25</td>\n",
       "      <td>588.6253</td>\n",
       "      <td>5.0</td>\n",
       "      <td>...</td>\n",
       "      <td>0.0</td>\n",
       "      <td>1.0</td>\n",
       "      <td>0.0</td>\n",
       "      <td>0.0</td>\n",
       "      <td>0.902863</td>\n",
       "      <td>10.341291</td>\n",
       "      <td>5</td>\n",
       "      <td>6</td>\n",
       "      <td>7</td>\n",
       "      <td>7</td>\n",
       "    </tr>\n",
       "    <tr>\n",
       "      <th>40170</th>\n",
       "      <td>12</td>\n",
       "      <td>9804035000</td>\n",
       "      <td>4</td>\n",
       "      <td>102</td>\n",
       "      <td>2</td>\n",
       "      <td>22000</td>\n",
       "      <td>414067</td>\n",
       "      <td>271.25</td>\n",
       "      <td>588.6253</td>\n",
       "      <td>7.0</td>\n",
       "      <td>...</td>\n",
       "      <td>0.0</td>\n",
       "      <td>0.0</td>\n",
       "      <td>0.0</td>\n",
       "      <td>0.0</td>\n",
       "      <td>0.902863</td>\n",
       "      <td>9.663897</td>\n",
       "      <td>2</td>\n",
       "      <td>4</td>\n",
       "      <td>6</td>\n",
       "      <td>3</td>\n",
       "    </tr>\n",
       "  </tbody>\n",
       "</table>\n",
       "<p>5 rows × 119 columns</p>\n",
       "</div>"
      ],
      "text/plain": [
       "       W_REGN       W_OID  W_SHSN  W_HCN  URB   RSTR     PSU  BWEIGHT  \\\n",
       "40166      12  9804029001      18    568    1  22000  114062   271.25   \n",
       "40167      12  9804035000       1     25    2  22000  414067   271.25   \n",
       "40168      12  9804035000       2     51    2  22000  414067   271.25   \n",
       "40169      12  9804035000       3     75    2  22000  414067   271.25   \n",
       "40170      12  9804035000       4    102    2  22000  414067   271.25   \n",
       "\n",
       "          RFACT  FSIZE  ...  PC_QTY  OVEN_QTY  MOTOR_BANCA_QTY  \\\n",
       "40166  963.2264    5.0  ...     0.0       0.0              0.0   \n",
       "40167  588.6253    9.0  ...     0.0       1.0              0.0   \n",
       "40168  588.6253    6.0  ...     0.0       0.0              0.0   \n",
       "40169  588.6253    5.0  ...     0.0       1.0              0.0   \n",
       "40170  588.6253    7.0  ...     0.0       0.0              0.0   \n",
       "\n",
       "       MOTORCYCLE_QTY   POP_ADJ      PCINC  NATPC  NATDC  REGDC  REGPC  \n",
       "40166             0.0  0.902863  10.312367      5      5      7      7  \n",
       "40167             0.0  0.902863   9.572890      1      5      7      3  \n",
       "40168             0.0  0.902863   9.859448      3      4      6      4  \n",
       "40169             0.0  0.902863  10.341291      5      6      7      7  \n",
       "40170             0.0  0.902863   9.663897      2      4      6      3  \n",
       "\n",
       "[5 rows x 119 columns]"
      ]
     },
     "execution_count": 8,
     "metadata": {},
     "output_type": "execute_result"
    }
   ],
   "source": [
    "incexp_df.tail()"
   ]
  },
  {
   "cell_type": "code",
   "execution_count": 9,
   "metadata": {
    "colab": {
     "base_uri": "https://localhost:8080/"
    },
    "executionInfo": {
     "elapsed": 3,
     "status": "ok",
     "timestamp": 1742031434239,
     "user": {
      "displayName": "Joaquin Andres Rodriguez",
      "userId": "10473083297834192702"
     },
     "user_tz": -480
    },
    "id": "CXB4cuMo_bte",
    "outputId": "da72148b-0736-4037-b3a9-731db8cd2293"
   },
   "outputs": [
    {
     "name": "stdout",
     "output_type": "stream",
     "text": [
      "W_REGN      int64\n",
      "W_OID       int64\n",
      "W_SHSN      int64\n",
      "W_HCN       int64\n",
      "URB         int64\n",
      "           ...   \n",
      "PCINC     float64\n",
      "NATPC       int64\n",
      "NATDC       int64\n",
      "REGDC       int64\n",
      "REGPC       int64\n",
      "Length: 119, dtype: object\n"
     ]
    }
   ],
   "source": [
    "print(incexp_df.dtypes)"
   ]
  },
  {
   "cell_type": "code",
   "execution_count": 10,
   "metadata": {},
   "outputs": [
    {
     "data": {
      "image/png": "[encoded data removed]",
      "text/plain": [
       "<Figure size 640x480 with 1 Axes>"
      ]
     },
     "metadata": {},
     "output_type": "display_data"
    }
   ],
   "source": [
    "incexp_df['ELECTRIC'].value_counts().plot(kind='bar')\n",
    "plt.title('Target Variable Distribution')\n",
    "plt.xlabel('Income Decile')\n",
    "plt.ylabel('Count')\n",
    "plt.show()"
   ]
  },
  {
   "cell_type": "markdown",
   "metadata": {
    "id": "fioeJ0R0M1OW"
   },
   "source": [
    "## Income Distribution\n",
    "Using graphs, we display the income distribution of the dataset. This serves as a guide to see what is the trends with the values of the dataset as this could serve as a guide to what kind of machine learning algorithm we want to test using this dataset. [link text](https://)"
   ]
  },
  {
   "cell_type": "code",
   "execution_count": 11,
   "metadata": {
    "colab": {
     "base_uri": "https://localhost:8080/",
     "height": 1000
    },
    "executionInfo": {
     "elapsed": 1014,
     "status": "ok",
     "timestamp": 1742031435255,
     "user": {
      "displayName": "Joaquin Andres Rodriguez",
      "userId": "10473083297834192702"
     },
     "user_tz": -480
    },
    "id": "S1tk3tkVM2le",
    "outputId": "ef729496-057b-4474-8c32-f4ecd7cd55ac"
   },
   "outputs": [
    {
     "name": "stderr",
     "output_type": "stream",
     "text": [
      "c:\\Users\\LENOVO\\anaconda3\\Lib\\site-packages\\seaborn\\_oldcore.py:1119: FutureWarning: use_inf_as_na option is deprecated and will be removed in a future version. Convert inf values to NaN before operating instead.\n",
      "  with pd.option_context('mode.use_inf_as_na', True):\n"
     ]
    },
    {
     "data": {
      "image/png": "[encoded data removed]",
      "text/plain": [
       "<Figure size 1000x600 with 1 Axes>"
      ]
     },
     "metadata": {},
     "output_type": "display_data"
    },
    {
     "data": {
      "image/png": "[encoded data removed]",
      "text/plain": [
       "<Figure size 1200x600 with 1 Axes>"
      ]
     },
     "metadata": {},
     "output_type": "display_data"
    },
    {
     "data": {
      "image/png": "[encoded data removed]",
      "text/plain": [
       "<Figure size 800x600 with 1 Axes>"
      ]
     },
     "metadata": {},
     "output_type": "display_data"
    }
   ],
   "source": [
    "#Total Income Distribution\n",
    "plt.figure(figsize=(10,6))\n",
    "sns.histplot(incexp_df[\"TOINC\"], bins=50, kde=True)\n",
    "plt.title(\"Distribution of Total Income\")\n",
    "plt.xlabel(\"Total Income\")\n",
    "plt.ylabel(\"Frequency\")\n",
    "plt.show()\n",
    "\n",
    "#Income across regions\n",
    "plt.figure(figsize=(12,6))\n",
    "sns.boxplot(x=\"W_REGN\", y=\"TOINC\", data=incexp_df)\n",
    "plt.title(\"Income Distribution by Region\")\n",
    "plt.xlabel(\"Region\")\n",
    "plt.ylabel(\"Total Income\")\n",
    "plt.xticks(rotation=45)\n",
    "plt.show()\n",
    "\n",
    "# Income distribution in Urban vs Rural areas\n",
    "plt.figure(figsize=(8,6))\n",
    "sns.boxplot(x=\"URB\", y=\"TOINC\", data=incexp_df)\n",
    "plt.title(\"Income Distribution in Urban vs. Rural Areas\")\n",
    "plt.xlabel(\"Urban (1) / Rural (2)\")\n",
    "plt.ylabel(\"Total Income\")\n",
    "plt.show()\n"
   ]
  },
  {
   "cell_type": "markdown",
   "metadata": {
    "id": "vjSUy0qvy0jA"
   },
   "source": [
    "From the Total Income Distribution, we can see that there is an outlier after the normal distribution curve. The value of 500,000 for the Total Income has the most highest frequency, reaching at 3,000."
   ]
  },
  {
   "cell_type": "markdown",
   "metadata": {
    "id": "aP9qlqU87oWX"
   },
   "source": [
    "## Investigating Correlation between Features\n",
    "In this section, we will investigate which features have a high correlation with each other. This is to determine which features should be used or removed depending on the data analysis we want to apply."
   ]
  },
  {
   "cell_type": "markdown",
   "metadata": {
    "id": "BZl7mzNCFEo-"
   },
   "source": [
    "Here we test the correlation of the features `WAGES`, `AGRI_SAL`, `CASH_ABROAD`."
   ]
  },
  {
   "cell_type": "code",
   "execution_count": 12,
   "metadata": {
    "colab": {
     "base_uri": "https://localhost:8080/",
     "height": 143
    },
    "executionInfo": {
     "elapsed": 18,
     "status": "ok",
     "timestamp": 1742031435274,
     "user": {
      "displayName": "Joaquin Andres Rodriguez",
      "userId": "10473083297834192702"
     },
     "user_tz": -480
    },
    "id": "JuAg0xs09HoC",
    "outputId": "df086a73-d9ec-4159-94bd-49c11b3cc879"
   },
   "outputs": [
    {
     "data": {
      "text/html": [
       "<div>\n",
       "<style scoped>\n",
       "    .dataframe tbody tr th:only-of-type {\n",
       "        vertical-align: middle;\n",
       "    }\n",
       "\n",
       "    .dataframe tbody tr th {\n",
       "        vertical-align: top;\n",
       "    }\n",
       "\n",
       "    .dataframe thead th {\n",
       "        text-align: right;\n",
       "    }\n",
       "</style>\n",
       "<table border=\"1\" class=\"dataframe\">\n",
       "  <thead>\n",
       "    <tr style=\"text-align: right;\">\n",
       "      <th></th>\n",
       "      <th>WAGES</th>\n",
       "      <th>AGRI_SAL</th>\n",
       "      <th>CASH_ABROAD</th>\n",
       "    </tr>\n",
       "  </thead>\n",
       "  <tbody>\n",
       "    <tr>\n",
       "      <th>WAGES</th>\n",
       "      <td>1.000000</td>\n",
       "      <td>0.196639</td>\n",
       "      <td>-0.105573</td>\n",
       "    </tr>\n",
       "    <tr>\n",
       "      <th>AGRI_SAL</th>\n",
       "      <td>0.196639</td>\n",
       "      <td>1.000000</td>\n",
       "      <td>-0.124510</td>\n",
       "    </tr>\n",
       "    <tr>\n",
       "      <th>CASH_ABROAD</th>\n",
       "      <td>-0.105573</td>\n",
       "      <td>-0.124510</td>\n",
       "      <td>1.000000</td>\n",
       "    </tr>\n",
       "  </tbody>\n",
       "</table>\n",
       "</div>"
      ],
      "text/plain": [
       "                WAGES  AGRI_SAL  CASH_ABROAD\n",
       "WAGES        1.000000  0.196639    -0.105573\n",
       "AGRI_SAL     0.196639  1.000000    -0.124510\n",
       "CASH_ABROAD -0.105573 -0.124510     1.000000"
      ]
     },
     "execution_count": 12,
     "metadata": {},
     "output_type": "execute_result"
    }
   ],
   "source": [
    "correlation_test = incexp_df[['WAGES','AGRI_SAL', 'CASH_ABROAD']]\n",
    "correlation_test.corr()"
   ]
  },
  {
   "cell_type": "markdown",
   "metadata": {
    "id": "OLOVj7lmFdBL"
   },
   "source": [
    "Here, we can see that the correlation value between `WAGES` and `AGRI_SAL` is 0.010084, which is very close to 0, which means there's no significant correlation between these two features.\n",
    "\n",
    "Same goes for `CASH_ABROAD` and `AGRI_SAL`, which results to a negative value closer to 0."
   ]
  },
  {
   "cell_type": "code",
   "execution_count": 13,
   "metadata": {
    "colab": {
     "base_uri": "https://localhost:8080/"
    },
    "executionInfo": {
     "elapsed": 11,
     "status": "ok",
     "timestamp": 1742031435286,
     "user": {
      "displayName": "Joaquin Andres Rodriguez",
      "userId": "10473083297834192702"
     },
     "user_tz": -480
    },
    "id": "6_RuJSG9HM8n",
    "outputId": "3ad8a141-b49f-4f8b-9353-7974cadab59c"
   },
   "outputs": [
    {
     "name": "stdout",
     "output_type": "stream",
     "text": [
      "0        2\n",
      "1        2\n",
      "2        2\n",
      "3        1\n",
      "4        2\n",
      "        ..\n",
      "40166    2\n",
      "40167    1\n",
      "40168    2\n",
      "40169    2\n",
      "40170    2\n",
      "Name: HHTYPE, Length: 40171, dtype: int64\n"
     ]
    }
   ],
   "source": [
    "print(incexp_df['HHTYPE'])"
   ]
  },
  {
   "cell_type": "code",
   "execution_count": 14,
   "metadata": {
    "colab": {
     "base_uri": "https://localhost:8080/",
     "height": 206
    },
    "executionInfo": {
     "elapsed": 14,
     "status": "ok",
     "timestamp": 1742031435300,
     "user": {
      "displayName": "Joaquin Andres Rodriguez",
      "userId": "10473083297834192702"
     },
     "user_tz": -480
    },
    "id": "InzxQQeBGQkE",
    "outputId": "1240fadf-945c-41fa-a6dd-7b0442475d45"
   },
   "outputs": [
    {
     "data": {
      "text/html": [
       "<div>\n",
       "<style scoped>\n",
       "    .dataframe tbody tr th:only-of-type {\n",
       "        vertical-align: middle;\n",
       "    }\n",
       "\n",
       "    .dataframe tbody tr th {\n",
       "        vertical-align: top;\n",
       "    }\n",
       "\n",
       "    .dataframe thead th {\n",
       "        text-align: right;\n",
       "    }\n",
       "</style>\n",
       "<table border=\"1\" class=\"dataframe\">\n",
       "  <thead>\n",
       "    <tr style=\"text-align: right;\">\n",
       "      <th></th>\n",
       "      <th>EAINC</th>\n",
       "      <th>TOINC</th>\n",
       "      <th>CASH_DOMESTIC</th>\n",
       "      <th>CASH_ABROAD</th>\n",
       "      <th>PCINC</th>\n",
       "    </tr>\n",
       "  </thead>\n",
       "  <tbody>\n",
       "    <tr>\n",
       "      <th>EAINC</th>\n",
       "      <td>1.000000</td>\n",
       "      <td>-0.012324</td>\n",
       "      <td>-0.003948</td>\n",
       "      <td>-0.068226</td>\n",
       "      <td>-0.115157</td>\n",
       "    </tr>\n",
       "    <tr>\n",
       "      <th>TOINC</th>\n",
       "      <td>-0.012324</td>\n",
       "      <td>1.000000</td>\n",
       "      <td>-0.252712</td>\n",
       "      <td>0.346479</td>\n",
       "      <td>0.789577</td>\n",
       "    </tr>\n",
       "    <tr>\n",
       "      <th>CASH_DOMESTIC</th>\n",
       "      <td>-0.003948</td>\n",
       "      <td>-0.252712</td>\n",
       "      <td>1.000000</td>\n",
       "      <td>-0.098800</td>\n",
       "      <td>-0.289989</td>\n",
       "    </tr>\n",
       "    <tr>\n",
       "      <th>CASH_ABROAD</th>\n",
       "      <td>-0.068226</td>\n",
       "      <td>0.346479</td>\n",
       "      <td>-0.098800</td>\n",
       "      <td>1.000000</td>\n",
       "      <td>0.345774</td>\n",
       "    </tr>\n",
       "    <tr>\n",
       "      <th>PCINC</th>\n",
       "      <td>-0.115157</td>\n",
       "      <td>0.789577</td>\n",
       "      <td>-0.289989</td>\n",
       "      <td>0.345774</td>\n",
       "      <td>1.000000</td>\n",
       "    </tr>\n",
       "  </tbody>\n",
       "</table>\n",
       "</div>"
      ],
      "text/plain": [
       "                  EAINC     TOINC  CASH_DOMESTIC  CASH_ABROAD     PCINC\n",
       "EAINC          1.000000 -0.012324      -0.003948    -0.068226 -0.115157\n",
       "TOINC         -0.012324  1.000000      -0.252712     0.346479  0.789577\n",
       "CASH_DOMESTIC -0.003948 -0.252712       1.000000    -0.098800 -0.289989\n",
       "CASH_ABROAD   -0.068226  0.346479      -0.098800     1.000000  0.345774\n",
       "PCINC         -0.115157  0.789577      -0.289989     0.345774  1.000000"
      ]
     },
     "execution_count": 14,
     "metadata": {},
     "output_type": "execute_result"
    }
   ],
   "source": [
    "correlation_test = incexp_df[['EAINC','TOINC', 'CASH_DOMESTIC', 'CASH_ABROAD', 'PCINC']]\n",
    "correlation_test.corr()"
   ]
  },
  {
   "cell_type": "code",
   "execution_count": 15,
   "metadata": {
    "colab": {
     "base_uri": "https://localhost:8080/",
     "height": 112
    },
    "executionInfo": {
     "elapsed": 3,
     "status": "ok",
     "timestamp": 1742031435304,
     "user": {
      "displayName": "Joaquin Andres Rodriguez",
      "userId": "10473083297834192702"
     },
     "user_tz": -480
    },
    "id": "muYA2lTUIrJw",
    "outputId": "2a8487f9-213d-481a-bd59-41c5df3459e3"
   },
   "outputs": [
    {
     "data": {
      "text/html": [
       "<div>\n",
       "<style scoped>\n",
       "    .dataframe tbody tr th:only-of-type {\n",
       "        vertical-align: middle;\n",
       "    }\n",
       "\n",
       "    .dataframe tbody tr th {\n",
       "        vertical-align: top;\n",
       "    }\n",
       "\n",
       "    .dataframe thead th {\n",
       "        text-align: right;\n",
       "    }\n",
       "</style>\n",
       "<table border=\"1\" class=\"dataframe\">\n",
       "  <thead>\n",
       "    <tr style=\"text-align: right;\">\n",
       "      <th></th>\n",
       "      <th>WAGES</th>\n",
       "      <th>PCINC</th>\n",
       "    </tr>\n",
       "  </thead>\n",
       "  <tbody>\n",
       "    <tr>\n",
       "      <th>WAGES</th>\n",
       "      <td>1.000000</td>\n",
       "      <td>0.072025</td>\n",
       "    </tr>\n",
       "    <tr>\n",
       "      <th>PCINC</th>\n",
       "      <td>0.072025</td>\n",
       "      <td>1.000000</td>\n",
       "    </tr>\n",
       "  </tbody>\n",
       "</table>\n",
       "</div>"
      ],
      "text/plain": [
       "          WAGES     PCINC\n",
       "WAGES  1.000000  0.072025\n",
       "PCINC  0.072025  1.000000"
      ]
     },
     "execution_count": 15,
     "metadata": {},
     "output_type": "execute_result"
    }
   ],
   "source": [
    "correlation_test = incexp_df[['WAGES','PCINC']]\n",
    "correlation_test.corr()"
   ]
  },
  {
   "cell_type": "code",
   "execution_count": 16,
   "metadata": {
    "colab": {
     "base_uri": "https://localhost:8080/",
     "height": 175
    },
    "executionInfo": {
     "elapsed": 14,
     "status": "ok",
     "timestamp": 1742031435319,
     "user": {
      "displayName": "Joaquin Andres Rodriguez",
      "userId": "10473083297834192702"
     },
     "user_tz": -480
    },
    "id": "r8_qP69XJpI0",
    "outputId": "6dc883b5-1a11-421b-e24c-88b56414565a"
   },
   "outputs": [
    {
     "data": {
      "text/html": [
       "<div>\n",
       "<style scoped>\n",
       "    .dataframe tbody tr th:only-of-type {\n",
       "        vertical-align: middle;\n",
       "    }\n",
       "\n",
       "    .dataframe tbody tr th {\n",
       "        vertical-align: top;\n",
       "    }\n",
       "\n",
       "    .dataframe thead th {\n",
       "        text-align: right;\n",
       "    }\n",
       "</style>\n",
       "<table border=\"1\" class=\"dataframe\">\n",
       "  <thead>\n",
       "    <tr style=\"text-align: right;\">\n",
       "      <th></th>\n",
       "      <th>T_RENTVAL</th>\n",
       "      <th>T_ACTRENT</th>\n",
       "      <th>T_IMPUTED_RENT</th>\n",
       "      <th>T_BIMPUTED_RENT</th>\n",
       "    </tr>\n",
       "  </thead>\n",
       "  <tbody>\n",
       "    <tr>\n",
       "      <th>T_RENTVAL</th>\n",
       "      <td>1.000000</td>\n",
       "      <td>0.246786</td>\n",
       "      <td>0.949592</td>\n",
       "      <td>0.061768</td>\n",
       "    </tr>\n",
       "    <tr>\n",
       "      <th>T_ACTRENT</th>\n",
       "      <td>0.246786</td>\n",
       "      <td>1.000000</td>\n",
       "      <td>-0.065278</td>\n",
       "      <td>0.086567</td>\n",
       "    </tr>\n",
       "    <tr>\n",
       "      <th>T_IMPUTED_RENT</th>\n",
       "      <td>0.949592</td>\n",
       "      <td>-0.065278</td>\n",
       "      <td>1.000000</td>\n",
       "      <td>-0.015618</td>\n",
       "    </tr>\n",
       "    <tr>\n",
       "      <th>T_BIMPUTED_RENT</th>\n",
       "      <td>0.061768</td>\n",
       "      <td>0.086567</td>\n",
       "      <td>-0.015618</td>\n",
       "      <td>1.000000</td>\n",
       "    </tr>\n",
       "  </tbody>\n",
       "</table>\n",
       "</div>"
      ],
      "text/plain": [
       "                 T_RENTVAL  T_ACTRENT  T_IMPUTED_RENT  T_BIMPUTED_RENT\n",
       "T_RENTVAL         1.000000   0.246786        0.949592         0.061768\n",
       "T_ACTRENT         0.246786   1.000000       -0.065278         0.086567\n",
       "T_IMPUTED_RENT    0.949592  -0.065278        1.000000        -0.015618\n",
       "T_BIMPUTED_RENT   0.061768   0.086567       -0.015618         1.000000"
      ]
     },
     "execution_count": 16,
     "metadata": {},
     "output_type": "execute_result"
    }
   ],
   "source": [
    "correlation_test = incexp_df[['T_RENTVAL','T_ACTRENT', 'T_IMPUTED_RENT', 'T_BIMPUTED_RENT']]\n",
    "correlation_test.corr()"
   ]
  },
  {
   "cell_type": "markdown",
   "metadata": {},
   "source": [
    "## Feature Importance\n"
   ]
  },
  {
   "cell_type": "code",
   "execution_count": 17,
   "metadata": {},
   "outputs": [
    {
     "name": "stdout",
     "output_type": "stream",
     "text": [
      "W_REGN                    int64\n",
      "W_OID                     int64\n",
      "W_SHSN                    int64\n",
      "W_HCN                     int64\n",
      "URB                       int64\n",
      "RSTR                      int64\n",
      "PSU                       int64\n",
      "BWEIGHT                 float64\n",
      "RFACT                   float64\n",
      "FSIZE                   float64\n",
      "AGRI_SAL                  int64\n",
      "NONAGRI_SAL               int64\n",
      "WAGES                   float64\n",
      "NETSHARE                float64\n",
      "CASH_ABROAD             float64\n",
      "CASH_DOMESTIC           float64\n",
      "RENTALS_REC             float64\n",
      "INTEREST                float64\n",
      "PENSION                 float64\n",
      "DIVIDENDS               float64\n",
      "OTHER_SOURCE            float64\n",
      "NET_RECEIPT             float64\n",
      "REGFT                   float64\n",
      "NET_CFG                 float64\n",
      "NET_LPR                 float64\n",
      "NET_FISH                float64\n",
      "NET_FOR                 float64\n",
      "NET_RET                 float64\n",
      "NET_MFG                 float64\n",
      "NET_COM                 float64\n",
      "NET_TRANS               float64\n",
      "NET_MIN                 float64\n",
      "NET_CONS                float64\n",
      "NET_NEC                 float64\n",
      "EAINC                   float64\n",
      "TOINC                   float64\n",
      "LOSSES                  float64\n",
      "T_BREAD                 float64\n",
      "T_MEAT                  float64\n",
      "T_FISH                  float64\n",
      "T_MILK                  float64\n",
      "T_OIL                   float64\n",
      "T_FRUIT                 float64\n",
      "T_VEG                   float64\n",
      "T_SUGAR                 float64\n",
      "T_FOOD_NEC                int64\n",
      "T_COFFEE                float64\n",
      "T_MINERAL               float64\n",
      "T_ALCOHOL               float64\n",
      "T_TOBACCO               float64\n",
      "T_OTHER_VEG             float64\n",
      "T_FOOD_HOME             float64\n",
      "T_FOOD_OUTSIDE          float64\n",
      "T_FOOD                  float64\n",
      "T_CLOTH                 float64\n",
      "T_FURNISHING            float64\n",
      "T_HEALTH                float64\n",
      "T_HOUSING_WATER         float64\n",
      "T_ACTRENT                 int64\n",
      "T_RENTVAL                 int64\n",
      "T_IMPUTED_RENT            int64\n",
      "T_BIMPUTED_RENT           int64\n",
      "T_TRANSPORT             float64\n",
      "T_COMMUNICATION         float64\n",
      "T_RECREATION            float64\n",
      "T_EDUCATION             float64\n",
      "T_MISCELLANEOUS         float64\n",
      "T_OTHER_EXPENDITURE     float64\n",
      "T_OTHER_DISBURSEMENT    float64\n",
      "T_NFOOD                 float64\n",
      "T_TOTEX                 float64\n",
      "T_TOTDIS                float64\n",
      "T_OTHREC                float64\n",
      "T_TOREC                 float64\n",
      "FOOD_ACCOM_SRVC           int64\n",
      "SEX                       int64\n",
      "AGE                       int64\n",
      "MS                        int64\n",
      "HGC                       int64\n",
      "JOB                       int64\n",
      "OCCUP                     int64\n",
      "KB                        int64\n",
      "CW                      float64\n",
      "HHTYPE                    int64\n",
      "MEMBERS                   int64\n",
      "AGELESS5                  int64\n",
      "AGE5_17                   int64\n",
      "EMPLOYED_PAY              int64\n",
      "EMPLOYED_PROF             int64\n",
      "SPOUSE_EMP                int64\n",
      "BLDG_TYPE                 int64\n",
      "ROOF                      int64\n",
      "WALLS                     int64\n",
      "TENURE                    int64\n",
      "HSE_ALTERTN               int64\n",
      "TOILET                    int64\n",
      "ELECTRIC                  int64\n",
      "WATER                     int64\n",
      "DISTANCE                float64\n",
      "RADIO_QTY               float64\n",
      "TV_QTY                  float64\n",
      "CD_QTY                  float64\n",
      "STEREO_QTY              float64\n",
      "REF_QTY                 float64\n",
      "WASH_QTY                float64\n",
      "AIRCON_QTY              float64\n",
      "CAR_QTY                 float64\n",
      "LANDLINE_QTY            float64\n",
      "CELLPHONE_QTY           float64\n",
      "PC_QTY                  float64\n",
      "OVEN_QTY                float64\n",
      "MOTOR_BANCA_QTY         float64\n",
      "MOTORCYCLE_QTY          float64\n",
      "POP_ADJ                 float64\n",
      "PCINC                   float64\n",
      "NATPC                     int64\n",
      "NATDC                     int64\n",
      "REGDC                     int64\n",
      "REGPC                     int64\n",
      "dtype: object\n"
     ]
    }
   ],
   "source": [
    "pd.set_option('display.max_rows', None)  \n",
    "print(incexp_df.dtypes)"
   ]
  },
  {
   "cell_type": "code",
   "execution_count": 18,
   "metadata": {},
   "outputs": [
    {
     "name": "stdout",
     "output_type": "stream",
     "text": [
      "Selected features: Index(['W_OID', 'RFACT', 'NET_RECEIPT', 'REGFT', 'T_MILK', 'T_VEG',\n",
      "       'T_HOUSING_WATER', 'T_RENTVAL', 'T_COMMUNICATION', 'T_MISCELLANEOUS',\n",
      "       'T_NFOOD', 'T_TOTDIS', 'T_TOREC', 'TOILET', 'WATER', 'DISTANCE',\n",
      "       'TV_QTY', 'CD_QTY', 'CELLPHONE_QTY', 'PCINC'],\n",
      "      dtype='object')\n"
     ]
    }
   ],
   "source": [
    "import pandas as pd\n",
    "from sklearn.feature_selection import RFE\n",
    "from sklearn.ensemble import RandomForestClassifier\n",
    "\n",
    "X = incexp_df.drop(columns=['ELECTRIC'])  \n",
    "y = incexp_df['ELECTRIC']\n",
    "\n",
    "rf = RandomForestClassifier()\n",
    "selector = RFE(rf, n_features_to_select=20, step=10)  # step=10 removes 10 features per iteration\n",
    "selector.fit(X, y)\n",
    "\n",
    "selected_features = X.columns[selector.support_]\n",
    "print(\"Selected features:\", selected_features)\n"
   ]
  },
  {
   "cell_type": "markdown",
   "metadata": {},
   "source": [
    "Selected features: Index(['W_OID', 'RFACT', 'NET_RECEIPT', 'REGFT', 'T_MEAT', 'T_MILK', 'T_VEG',\n",
    "       'T_SUGAR', 'T_HOUSING_WATER', 'T_RENTVAL', 'T_COMMUNICATION', 'T_NFOOD',\n",
    "       'T_TOTEX', 'TOILET', 'WATER', 'DISTANCE', 'TV_QTY', 'CD_QTY',\n",
    "       'CELLPHONE_QTY', 'PCINC'],\n",
    "      dtype='object')"
   ]
  },
  {
   "cell_type": "markdown",
   "metadata": {
    "id": "QaDKuzlHHo-S"
   },
   "source": [
    "# Improving Model Performance"
   ]
  },
  {
   "cell_type": "markdown",
   "metadata": {},
   "source": [
    "## Logistic Regression for Predicting if Household has Electricity"
   ]
  },
  {
   "cell_type": "code",
   "execution_count": 38,
   "metadata": {},
   "outputs": [],
   "source": [
    "from sklearn.model_selection import train_test_split\n",
    "from sklearn.preprocessing import StandardScaler\n",
    "from sklearn.linear_model import LogisticRegression\n",
    "from sklearn.metrics import accuracy_score, classification_report\n",
    "\n",
    "# Define features and target variable\n",
    "X = incexp_df[selected_features]  # Using the selected features from RFE\n",
    "y = incexp_df['ELECTRIC']\n",
    "\n",
    "# Split dataset into training and testing sets (80% train, 20% test)\n",
    "X_train, X_test, y_train, y_test = train_test_split(X, y, test_size=0.2, random_state=42)"
   ]
  },
  {
   "cell_type": "code",
   "execution_count": 39,
   "metadata": {},
   "outputs": [],
   "source": [
    "X_train_clean = X_train.dropna()\n",
    "y_train_clean = y_train[X_train_clean.index]  # Ensure y_train matches the cleaned X_train\n",
    "X_test_clean = X_test.dropna()\n",
    "y_test_clean = y_test[X_test_clean.index]\n"
   ]
  },
  {
   "cell_type": "code",
   "execution_count": 40,
   "metadata": {},
   "outputs": [],
   "source": [
    "scaler = StandardScaler()\n",
    "X_train_scaled = scaler.fit_transform(X_train_clean)\n",
    "X_test_scaled = scaler.transform(X_test_clean)"
   ]
  },
  {
   "cell_type": "code",
   "execution_count": 41,
   "metadata": {},
   "outputs": [
    {
     "data": {
      "text/html": [
       "<style>#sk-container-id-4 {color: black;background-color: white;}#sk-container-id-4 pre{padding: 0;}#sk-container-id-4 div.sk-toggleable {background-color: white;}#sk-container-id-4 label.sk-toggleable__label {cursor: pointer;display: block;width: 100%;margin-bottom: 0;padding: 0.3em;box-sizing: border-box;text-align: center;}#sk-container-id-4 label.sk-toggleable__label-arrow:before {content: \"▸\";float: left;margin-right: 0.25em;color: #696969;}#sk-container-id-4 label.sk-toggleable__label-arrow:hover:before {color: black;}#sk-container-id-4 div.sk-estimator:hover label.sk-toggleable__label-arrow:before {color: black;}#sk-container-id-4 div.sk-toggleable__content {max-height: 0;max-width: 0;overflow: hidden;text-align: left;background-color: #f0f8ff;}#sk-container-id-4 div.sk-toggleable__content pre {margin: 0.2em;color: black;border-radius: 0.25em;background-color: #f0f8ff;}#sk-container-id-4 input.sk-toggleable__control:checked~div.sk-toggleable__content {max-height: 200px;max-width: 100%;overflow: auto;}#sk-container-id-4 input.sk-toggleable__control:checked~label.sk-toggleable__label-arrow:before {content: \"▾\";}#sk-container-id-4 div.sk-estimator input.sk-toggleable__control:checked~label.sk-toggleable__label {background-color: #d4ebff;}#sk-container-id-4 div.sk-label input.sk-toggleable__control:checked~label.sk-toggleable__label {background-color: #d4ebff;}#sk-container-id-4 input.sk-hidden--visually {border: 0;clip: rect(1px 1px 1px 1px);clip: rect(1px, 1px, 1px, 1px);height: 1px;margin: -1px;overflow: hidden;padding: 0;position: absolute;width: 1px;}#sk-container-id-4 div.sk-estimator {font-family: monospace;background-color: #f0f8ff;border: 1px dotted black;border-radius: 0.25em;box-sizing: border-box;margin-bottom: 0.5em;}#sk-container-id-4 div.sk-estimator:hover {background-color: #d4ebff;}#sk-container-id-4 div.sk-parallel-item::after {content: \"\";width: 100%;border-bottom: 1px solid gray;flex-grow: 1;}#sk-container-id-4 div.sk-label:hover label.sk-toggleable__label {background-color: #d4ebff;}#sk-container-id-4 div.sk-serial::before {content: \"\";position: absolute;border-left: 1px solid gray;box-sizing: border-box;top: 0;bottom: 0;left: 50%;z-index: 0;}#sk-container-id-4 div.sk-serial {display: flex;flex-direction: column;align-items: center;background-color: white;padding-right: 0.2em;padding-left: 0.2em;position: relative;}#sk-container-id-4 div.sk-item {position: relative;z-index: 1;}#sk-container-id-4 div.sk-parallel {display: flex;align-items: stretch;justify-content: center;background-color: white;position: relative;}#sk-container-id-4 div.sk-item::before, #sk-container-id-4 div.sk-parallel-item::before {content: \"\";position: absolute;border-left: 1px solid gray;box-sizing: border-box;top: 0;bottom: 0;left: 50%;z-index: -1;}#sk-container-id-4 div.sk-parallel-item {display: flex;flex-direction: column;z-index: 1;position: relative;background-color: white;}#sk-container-id-4 div.sk-parallel-item:first-child::after {align-self: flex-end;width: 50%;}#sk-container-id-4 div.sk-parallel-item:last-child::after {align-self: flex-start;width: 50%;}#sk-container-id-4 div.sk-parallel-item:only-child::after {width: 0;}#sk-container-id-4 div.sk-dashed-wrapped {border: 1px dashed gray;margin: 0 0.4em 0.5em 0.4em;box-sizing: border-box;padding-bottom: 0.4em;background-color: white;}#sk-container-id-4 div.sk-label label {font-family: monospace;font-weight: bold;display: inline-block;line-height: 1.2em;}#sk-container-id-4 div.sk-label-container {text-align: center;}#sk-container-id-4 div.sk-container {/* jupyter's `normalize.less` sets `[hidden] { display: none; }` but bootstrap.min.css set `[hidden] { display: none !important; }` so we also need the `!important` here to be able to override the default hidden behavior on the sphinx rendered scikit-learn.org. See: https://github.com/scikit-learn/scikit-learn/issues/21755 */display: inline-block !important;position: relative;}#sk-container-id-4 div.sk-text-repr-fallback {display: none;}</style><div id=\"sk-container-id-4\" class=\"sk-top-container\"><div class=\"sk-text-repr-fallback\"><pre>LogisticRegression()</pre><b>In a Jupyter environment, please rerun this cell to show the HTML representation or trust the notebook. <br />On GitHub, the HTML representation is unable to render, please try loading this page with nbviewer.org.</b></div><div class=\"sk-container\" hidden><div class=\"sk-item\"><div class=\"sk-estimator sk-toggleable\"><input class=\"sk-toggleable__control sk-hidden--visually\" id=\"sk-estimator-id-4\" type=\"checkbox\" checked><label for=\"sk-estimator-id-4\" class=\"sk-toggleable__label sk-toggleable__label-arrow\">LogisticRegression</label><div class=\"sk-toggleable__content\"><pre>LogisticRegression()</pre></div></div></div></div></div>"
      ],
      "text/plain": [
       "LogisticRegression()"
      ]
     },
     "execution_count": 41,
     "metadata": {},
     "output_type": "execute_result"
    }
   ],
   "source": [
    "log_reg = LogisticRegression()\n",
    "log_reg.fit(X_train_scaled, y_train_clean)\n"
   ]
  },
  {
   "cell_type": "code",
   "execution_count": 42,
   "metadata": {},
   "outputs": [
    {
     "name": "stdout",
     "output_type": "stream",
     "text": [
      "Logistic Regression Accuracy: 0.9114\n",
      "Classification Report:\n",
      "               precision    recall  f1-score   support\n",
      "\n",
      "           1       0.94      0.96      0.95      6931\n",
      "           2       0.70      0.63      0.66      1104\n",
      "\n",
      "    accuracy                           0.91      8035\n",
      "   macro avg       0.82      0.79      0.81      8035\n",
      "weighted avg       0.91      0.91      0.91      8035\n",
      "\n"
     ]
    }
   ],
   "source": [
    "y_pred = log_reg.predict(X_test_scaled)\n",
    "accuracy = accuracy_score(y_test_clean, y_pred)\n",
    "print(f\"Logistic Regression Accuracy: {accuracy:.4f}\")\n",
    "print(\"Classification Report:\\n\", classification_report(y_test_clean, y_pred))"
   ]
  },
  {
   "cell_type": "code",
   "execution_count": 43,
   "metadata": {},
   "outputs": [
    {
     "name": "stdout",
     "output_type": "stream",
     "text": [
      "Baseline Dummy Accuracy: 0.8626\n"
     ]
    }
   ],
   "source": [
    "from sklearn.dummy import DummyClassifier\n",
    "dummy = DummyClassifier(strategy=\"most_frequent\")  # Always predicts the majority class\n",
    "dummy.fit(X_train_scaled, y_train_clean)\n",
    "dummy_acc = dummy.score(X_test_scaled, y_test_clean)\n",
    "print(f\"Baseline Dummy Accuracy: {dummy_acc:.4f}\")"
   ]
  },
  {
   "cell_type": "markdown",
   "metadata": {},
   "source": [
    "## Naive Bayes for Predicting if Household has Electricity"
   ]
  },
  {
   "cell_type": "code",
   "execution_count": 44,
   "metadata": {},
   "outputs": [],
   "source": [
    "from sklearn.naive_bayes import GaussianNB"
   ]
  },
  {
   "cell_type": "code",
   "execution_count": 45,
   "metadata": {},
   "outputs": [],
   "source": [
    "naive_bayes = GaussianNB()"
   ]
  },
  {
   "cell_type": "code",
   "execution_count": 46,
   "metadata": {},
   "outputs": [
    {
     "data": {
      "text/html": [
       "<style>#sk-container-id-5 {color: black;background-color: white;}#sk-container-id-5 pre{padding: 0;}#sk-container-id-5 div.sk-toggleable {background-color: white;}#sk-container-id-5 label.sk-toggleable__label {cursor: pointer;display: block;width: 100%;margin-bottom: 0;padding: 0.3em;box-sizing: border-box;text-align: center;}#sk-container-id-5 label.sk-toggleable__label-arrow:before {content: \"▸\";float: left;margin-right: 0.25em;color: #696969;}#sk-container-id-5 label.sk-toggleable__label-arrow:hover:before {color: black;}#sk-container-id-5 div.sk-estimator:hover label.sk-toggleable__label-arrow:before {color: black;}#sk-container-id-5 div.sk-toggleable__content {max-height: 0;max-width: 0;overflow: hidden;text-align: left;background-color: #f0f8ff;}#sk-container-id-5 div.sk-toggleable__content pre {margin: 0.2em;color: black;border-radius: 0.25em;background-color: #f0f8ff;}#sk-container-id-5 input.sk-toggleable__control:checked~div.sk-toggleable__content {max-height: 200px;max-width: 100%;overflow: auto;}#sk-container-id-5 input.sk-toggleable__control:checked~label.sk-toggleable__label-arrow:before {content: \"▾\";}#sk-container-id-5 div.sk-estimator input.sk-toggleable__control:checked~label.sk-toggleable__label {background-color: #d4ebff;}#sk-container-id-5 div.sk-label input.sk-toggleable__control:checked~label.sk-toggleable__label {background-color: #d4ebff;}#sk-container-id-5 input.sk-hidden--visually {border: 0;clip: rect(1px 1px 1px 1px);clip: rect(1px, 1px, 1px, 1px);height: 1px;margin: -1px;overflow: hidden;padding: 0;position: absolute;width: 1px;}#sk-container-id-5 div.sk-estimator {font-family: monospace;background-color: #f0f8ff;border: 1px dotted black;border-radius: 0.25em;box-sizing: border-box;margin-bottom: 0.5em;}#sk-container-id-5 div.sk-estimator:hover {background-color: #d4ebff;}#sk-container-id-5 div.sk-parallel-item::after {content: \"\";width: 100%;border-bottom: 1px solid gray;flex-grow: 1;}#sk-container-id-5 div.sk-label:hover label.sk-toggleable__label {background-color: #d4ebff;}#sk-container-id-5 div.sk-serial::before {content: \"\";position: absolute;border-left: 1px solid gray;box-sizing: border-box;top: 0;bottom: 0;left: 50%;z-index: 0;}#sk-container-id-5 div.sk-serial {display: flex;flex-direction: column;align-items: center;background-color: white;padding-right: 0.2em;padding-left: 0.2em;position: relative;}#sk-container-id-5 div.sk-item {position: relative;z-index: 1;}#sk-container-id-5 div.sk-parallel {display: flex;align-items: stretch;justify-content: center;background-color: white;position: relative;}#sk-container-id-5 div.sk-item::before, #sk-container-id-5 div.sk-parallel-item::before {content: \"\";position: absolute;border-left: 1px solid gray;box-sizing: border-box;top: 0;bottom: 0;left: 50%;z-index: -1;}#sk-container-id-5 div.sk-parallel-item {display: flex;flex-direction: column;z-index: 1;position: relative;background-color: white;}#sk-container-id-5 div.sk-parallel-item:first-child::after {align-self: flex-end;width: 50%;}#sk-container-id-5 div.sk-parallel-item:last-child::after {align-self: flex-start;width: 50%;}#sk-container-id-5 div.sk-parallel-item:only-child::after {width: 0;}#sk-container-id-5 div.sk-dashed-wrapped {border: 1px dashed gray;margin: 0 0.4em 0.5em 0.4em;box-sizing: border-box;padding-bottom: 0.4em;background-color: white;}#sk-container-id-5 div.sk-label label {font-family: monospace;font-weight: bold;display: inline-block;line-height: 1.2em;}#sk-container-id-5 div.sk-label-container {text-align: center;}#sk-container-id-5 div.sk-container {/* jupyter's `normalize.less` sets `[hidden] { display: none; }` but bootstrap.min.css set `[hidden] { display: none !important; }` so we also need the `!important` here to be able to override the default hidden behavior on the sphinx rendered scikit-learn.org. See: https://github.com/scikit-learn/scikit-learn/issues/21755 */display: inline-block !important;position: relative;}#sk-container-id-5 div.sk-text-repr-fallback {display: none;}</style><div id=\"sk-container-id-5\" class=\"sk-top-container\"><div class=\"sk-text-repr-fallback\"><pre>GaussianNB()</pre><b>In a Jupyter environment, please rerun this cell to show the HTML representation or trust the notebook. <br />On GitHub, the HTML representation is unable to render, please try loading this page with nbviewer.org.</b></div><div class=\"sk-container\" hidden><div class=\"sk-item\"><div class=\"sk-estimator sk-toggleable\"><input class=\"sk-toggleable__control sk-hidden--visually\" id=\"sk-estimator-id-5\" type=\"checkbox\" checked><label for=\"sk-estimator-id-5\" class=\"sk-toggleable__label sk-toggleable__label-arrow\">GaussianNB</label><div class=\"sk-toggleable__content\"><pre>GaussianNB()</pre></div></div></div></div></div>"
      ],
      "text/plain": [
       "GaussianNB()"
      ]
     },
     "execution_count": 46,
     "metadata": {},
     "output_type": "execute_result"
    }
   ],
   "source": [
    "naive_bayes.fit(X_train_clean, y_train_clean)"
   ]
  },
  {
   "cell_type": "code",
   "execution_count": 47,
   "metadata": {},
   "outputs": [
    {
     "data": {
      "text/plain": [
       "array([1, 1, 1, ..., 1, 1, 1], dtype=int64)"
      ]
     },
     "execution_count": 47,
     "metadata": {},
     "output_type": "execute_result"
    }
   ],
   "source": [
    "predictions = naive_bayes.predict(X_train_clean)\n",
    "predictions"
   ]
  },
  {
   "cell_type": "code",
   "execution_count": 48,
   "metadata": {},
   "outputs": [],
   "source": [
    "def compute_accuracy(predictions, actual):\n",
    "    num_correct = (predictions == actual).sum()\n",
    "    accuracy = num_correct / predictions.shape[0] * 100\n",
    "\n",
    "    return accuracy"
   ]
  },
  {
   "cell_type": "code",
   "execution_count": 49,
   "metadata": {},
   "outputs": [
    {
     "name": "stdout",
     "output_type": "stream",
     "text": [
      "Training accuracy:  86.98966890714463 %\n"
     ]
    }
   ],
   "source": [
    "print(\"Training accuracy: \", compute_accuracy(predictions, y_train), \"%\")"
   ]
  },
  {
   "cell_type": "code",
   "execution_count": 50,
   "metadata": {},
   "outputs": [
    {
     "data": {
      "text/plain": [
       "array([1, 1, 1, ..., 1, 1, 1], dtype=int64)"
      ]
     },
     "execution_count": 50,
     "metadata": {},
     "output_type": "execute_result"
    }
   ],
   "source": [
    "predictions = naive_bayes.predict(X_test)\n",
    "predictions"
   ]
  },
  {
   "cell_type": "code",
   "execution_count": 51,
   "metadata": {},
   "outputs": [
    {
     "name": "stdout",
     "output_type": "stream",
     "text": [
      "Test accuracy:  86.26011200995643 %\n"
     ]
    }
   ],
   "source": [
    "print(\"Test accuracy: \", compute_accuracy(predictions, y_test), \"%\")"
   ]
  },
  {
   "cell_type": "code",
   "execution_count": 52,
   "metadata": {},
   "outputs": [
    {
     "name": "stdout",
     "output_type": "stream",
     "text": [
      "[27955.  4181.]\n",
      "[0.86989669 0.13010331]\n"
     ]
    }
   ],
   "source": [
    "print(naive_bayes.class_count_)\n",
    "print(naive_bayes.class_prior_)"
   ]
  },
  {
   "cell_type": "markdown",
   "metadata": {
    "id": "IeYh_I--HowD"
   },
   "source": [
    "## Linear Regression for Predicting Rent Value"
   ]
  },
  {
   "cell_type": "code",
   "execution_count": 29,
   "metadata": {
    "executionInfo": {
     "elapsed": 12,
     "status": "ok",
     "timestamp": 1742031435332,
     "user": {
      "displayName": "Joaquin Andres Rodriguez",
      "userId": "10473083297834192702"
     },
     "user_tz": -480
    },
    "id": "Zg-nu0Ww539z"
   },
   "outputs": [],
   "source": [
    "rent_features = ['WAGES']\n",
    "target = \"PCINC\"\n",
    "rent_df = incexp_df[rent_features + [target]].dropna()"
   ]
  },
  {
   "cell_type": "code",
   "execution_count": 30,
   "metadata": {
    "executionInfo": {
     "elapsed": 12,
     "status": "ok",
     "timestamp": 1742031435334,
     "user": {
      "displayName": "Joaquin Andres Rodriguez",
      "userId": "10473083297834192702"
     },
     "user_tz": -480
    },
    "id": "pWS6qtZT8SXn"
   },
   "outputs": [],
   "source": [
    "from sklearn.model_selection import train_test_split\n",
    "X_train, X_test, y_train, y_test = train_test_split(\n",
    "    rent_df[rent_features], rent_df[target], test_size=0.2, random_state=42\n",
    ")"
   ]
  },
  {
   "cell_type": "code",
   "execution_count": 31,
   "metadata": {
    "colab": {
     "base_uri": "https://localhost:8080/",
     "height": 80
    },
    "executionInfo": {
     "elapsed": 16,
     "status": "ok",
     "timestamp": 1742031435362,
     "user": {
      "displayName": "Joaquin Andres Rodriguez",
      "userId": "10473083297834192702"
     },
     "user_tz": -480
    },
    "id": "B8QVRPQA8cWJ",
    "outputId": "948199f5-a086-4aeb-ff67-5ed56ab64a3a"
   },
   "outputs": [
    {
     "data": {
      "text/html": [
       "<style>#sk-container-id-3 {color: black;background-color: white;}#sk-container-id-3 pre{padding: 0;}#sk-container-id-3 div.sk-toggleable {background-color: white;}#sk-container-id-3 label.sk-toggleable__label {cursor: pointer;display: block;width: 100%;margin-bottom: 0;padding: 0.3em;box-sizing: border-box;text-align: center;}#sk-container-id-3 label.sk-toggleable__label-arrow:before {content: \"▸\";float: left;margin-right: 0.25em;color: #696969;}#sk-container-id-3 label.sk-toggleable__label-arrow:hover:before {color: black;}#sk-container-id-3 div.sk-estimator:hover label.sk-toggleable__label-arrow:before {color: black;}#sk-container-id-3 div.sk-toggleable__content {max-height: 0;max-width: 0;overflow: hidden;text-align: left;background-color: #f0f8ff;}#sk-container-id-3 div.sk-toggleable__content pre {margin: 0.2em;color: black;border-radius: 0.25em;background-color: #f0f8ff;}#sk-container-id-3 input.sk-toggleable__control:checked~div.sk-toggleable__content {max-height: 200px;max-width: 100%;overflow: auto;}#sk-container-id-3 input.sk-toggleable__control:checked~label.sk-toggleable__label-arrow:before {content: \"▾\";}#sk-container-id-3 div.sk-estimator input.sk-toggleable__control:checked~label.sk-toggleable__label {background-color: #d4ebff;}#sk-container-id-3 div.sk-label input.sk-toggleable__control:checked~label.sk-toggleable__label {background-color: #d4ebff;}#sk-container-id-3 input.sk-hidden--visually {border: 0;clip: rect(1px 1px 1px 1px);clip: rect(1px, 1px, 1px, 1px);height: 1px;margin: -1px;overflow: hidden;padding: 0;position: absolute;width: 1px;}#sk-container-id-3 div.sk-estimator {font-family: monospace;background-color: #f0f8ff;border: 1px dotted black;border-radius: 0.25em;box-sizing: border-box;margin-bottom: 0.5em;}#sk-container-id-3 div.sk-estimator:hover {background-color: #d4ebff;}#sk-container-id-3 div.sk-parallel-item::after {content: \"\";width: 100%;border-bottom: 1px solid gray;flex-grow: 1;}#sk-container-id-3 div.sk-label:hover label.sk-toggleable__label {background-color: #d4ebff;}#sk-container-id-3 div.sk-serial::before {content: \"\";position: absolute;border-left: 1px solid gray;box-sizing: border-box;top: 0;bottom: 0;left: 50%;z-index: 0;}#sk-container-id-3 div.sk-serial {display: flex;flex-direction: column;align-items: center;background-color: white;padding-right: 0.2em;padding-left: 0.2em;position: relative;}#sk-container-id-3 div.sk-item {position: relative;z-index: 1;}#sk-container-id-3 div.sk-parallel {display: flex;align-items: stretch;justify-content: center;background-color: white;position: relative;}#sk-container-id-3 div.sk-item::before, #sk-container-id-3 div.sk-parallel-item::before {content: \"\";position: absolute;border-left: 1px solid gray;box-sizing: border-box;top: 0;bottom: 0;left: 50%;z-index: -1;}#sk-container-id-3 div.sk-parallel-item {display: flex;flex-direction: column;z-index: 1;position: relative;background-color: white;}#sk-container-id-3 div.sk-parallel-item:first-child::after {align-self: flex-end;width: 50%;}#sk-container-id-3 div.sk-parallel-item:last-child::after {align-self: flex-start;width: 50%;}#sk-container-id-3 div.sk-parallel-item:only-child::after {width: 0;}#sk-container-id-3 div.sk-dashed-wrapped {border: 1px dashed gray;margin: 0 0.4em 0.5em 0.4em;box-sizing: border-box;padding-bottom: 0.4em;background-color: white;}#sk-container-id-3 div.sk-label label {font-family: monospace;font-weight: bold;display: inline-block;line-height: 1.2em;}#sk-container-id-3 div.sk-label-container {text-align: center;}#sk-container-id-3 div.sk-container {/* jupyter's `normalize.less` sets `[hidden] { display: none; }` but bootstrap.min.css set `[hidden] { display: none !important; }` so we also need the `!important` here to be able to override the default hidden behavior on the sphinx rendered scikit-learn.org. See: https://github.com/scikit-learn/scikit-learn/issues/21755 */display: inline-block !important;position: relative;}#sk-container-id-3 div.sk-text-repr-fallback {display: none;}</style><div id=\"sk-container-id-3\" class=\"sk-top-container\"><div class=\"sk-text-repr-fallback\"><pre>LinearRegression()</pre><b>In a Jupyter environment, please rerun this cell to show the HTML representation or trust the notebook. <br />On GitHub, the HTML representation is unable to render, please try loading this page with nbviewer.org.</b></div><div class=\"sk-container\" hidden><div class=\"sk-item\"><div class=\"sk-estimator sk-toggleable\"><input class=\"sk-toggleable__control sk-hidden--visually\" id=\"sk-estimator-id-3\" type=\"checkbox\" checked><label for=\"sk-estimator-id-3\" class=\"sk-toggleable__label sk-toggleable__label-arrow\">LinearRegression</label><div class=\"sk-toggleable__content\"><pre>LinearRegression()</pre></div></div></div></div></div>"
      ],
      "text/plain": [
       "LinearRegression()"
      ]
     },
     "execution_count": 31,
     "metadata": {},
     "output_type": "execute_result"
    }
   ],
   "source": [
    "from sklearn.linear_model import LinearRegression\n",
    "model = LinearRegression()\n",
    "model.fit(X_train, y_train)"
   ]
  },
  {
   "cell_type": "code",
   "execution_count": 32,
   "metadata": {
    "executionInfo": {
     "elapsed": 8,
     "status": "ok",
     "timestamp": 1742031435371,
     "user": {
      "displayName": "Joaquin Andres Rodriguez",
      "userId": "10473083297834192702"
     },
     "user_tz": -480
    },
    "id": "a3-lu_BO8fZ_"
   },
   "outputs": [],
   "source": [
    "y_pred = model.predict(X_test)"
   ]
  },
  {
   "cell_type": "code",
   "execution_count": 33,
   "metadata": {
    "executionInfo": {
     "elapsed": 9,
     "status": "ok",
     "timestamp": 1742031435373,
     "user": {
      "displayName": "Joaquin Andres Rodriguez",
      "userId": "10473083297834192702"
     },
     "user_tz": -480
    },
    "id": "sBpeqlmK8ihx"
   },
   "outputs": [],
   "source": [
    "from sklearn.metrics import mean_squared_error, r2_score\n",
    "mse = mean_squared_error(y_test, y_pred)\n",
    "r2 = r2_score(y_test, y_pred)"
   ]
  },
  {
   "cell_type": "code",
   "execution_count": 34,
   "metadata": {
    "colab": {
     "base_uri": "https://localhost:8080/",
     "height": 472
    },
    "executionInfo": {
     "elapsed": 279,
     "status": "ok",
     "timestamp": 1742031435651,
     "user": {
      "displayName": "Joaquin Andres Rodriguez",
      "userId": "10473083297834192702"
     },
     "user_tz": -480
    },
    "id": "8CxrX46qedqa",
    "outputId": "18a5edfa-9681-4dc8-c4f2-13214bc4374b"
   },
   "outputs": [
    {
     "data": {
      "image/png": "[encoded data removed]",
      "text/plain": [
       "<Figure size 640x480 with 1 Axes>"
      ]
     },
     "metadata": {},
     "output_type": "display_data"
    }
   ],
   "source": [
    "# prompt: Can you plot the  model and the data points\n",
    "\n",
    "import matplotlib.pyplot as plt\n",
    "plt.scatter(X_test, y_test, color='blue', label='Actual Data Points')\n",
    "plt.plot(X_test, y_pred, color='red', linewidth=2, label='Linear Regression Model')\n",
    "plt.xlabel(rent_features[0]) # Assuming only one feature for simplicity\n",
    "plt.ylabel(target)\n",
    "plt.title('Linear Regression Model vs. Actual Data')\n",
    "plt.legend()\n",
    "plt.show()\n"
   ]
  },
  {
   "cell_type": "code",
   "execution_count": 35,
   "metadata": {
    "colab": {
     "base_uri": "https://localhost:8080/"
    },
    "executionInfo": {
     "elapsed": 13,
     "status": "ok",
     "timestamp": 1742031435653,
     "user": {
      "displayName": "Joaquin Andres Rodriguez",
      "userId": "10473083297834192702"
     },
     "user_tz": -480
    },
    "id": "aEaRMtpy8mac",
    "outputId": "98416625-65a4-4014-b6eb-6307c3f2c094"
   },
   "outputs": [
    {
     "name": "stdout",
     "output_type": "stream",
     "text": [
      "Mean Squared Error (MSE): 0.6838497581725801\n",
      "R² Score: 0.00233867946844879\n"
     ]
    }
   ],
   "source": [
    "print(f\"Mean Squared Error (MSE): {mse}\")\n",
    "print(f\"R² Score: {r2}\")"
   ]
  },
  {
   "cell_type": "markdown",
   "metadata": {
    "id": "LK36-uuZHmej"
   },
   "source": [
    "# Error Analysis"
   ]
  },
  {
   "cell_type": "markdown",
   "metadata": {
    "id": "-iUZdLurHsC2"
   },
   "source": []
  },
  {
   "cell_type": "markdown",
   "metadata": {
    "id": "XQndh-i9HsTW"
   },
   "source": [
    "# Model Performance Summary"
   ]
  },
  {
   "cell_type": "markdown",
   "metadata": {
    "id": "8Z2hkpmbHwzN"
   },
   "source": []
  },
  {
   "cell_type": "markdown",
   "metadata": {
    "id": "K5q8O4nHHxAS"
   },
   "source": [
    "# Insights and Conclusions"
   ]
  },
  {
   "cell_type": "markdown",
   "metadata": {
    "id": "J1FRKBmpH0v1"
   },
   "source": []
  },
  {
   "cell_type": "markdown",
   "metadata": {
    "id": "TP0qH6c-H08H"
   },
   "source": [
    "# References"
   ]
  },
  {
   "cell_type": "markdown",
   "metadata": {
    "id": "AQyPoOTEDmjo"
   },
   "source": [
    "AI Tools were utilized for this work, namely ChatGPT and Deepseek."
   ]
  }
 ],
 "metadata": {
  "colab": {
   "provenance": []
  },
  "kernelspec": {
   "display_name": "base",
   "language": "python",
   "name": "python3"
  },
  "language_info": {
   "codemirror_mode": {
    "name": "ipython",
    "version": 3
   },
   "file_extension": ".py",
   "mimetype": "text/x-python",
   "name": "python",
   "nbconvert_exporter": "python",
   "pygments_lexer": "ipython3",
   "version": "3.11.7"
  }
 },
 "nbformat": 4,
 "nbformat_minor": 4
}
