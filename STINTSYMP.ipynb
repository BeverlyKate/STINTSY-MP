{
 "cells": [
  {
   "cell_type": "markdown",
   "metadata": {
    "id": "s8H8-vqbG6I_"
   },
   "source": [
    "# Introduction"
   ]
  },
  {
   "cell_type": "markdown",
   "metadata": {
    "id": "AJ_QdVYVHLnf"
   },
   "source": [
    "The dataset utilized is the Family Income and Expenditure Survey 2012 Vol 1."
   ]
  },
  {
   "cell_type": "markdown",
   "metadata": {
    "id": "u4J-5tPHHMiQ"
   },
   "source": [
    "# Dataset"
   ]
  },
  {
   "cell_type": "markdown",
   "metadata": {
    "id": "wYx6XzMmHWqd"
   },
   "source": [
    "The Family Income and Expenditure Survey (FIES) 2012 is a national survey conducted by the Philippine Statistics Authority (PSA) to gather comprehensive data on family income and spending patterns across households in the Philippines. The dataset provides insights into income distribution, expenditure habits, and economic well-being, helping policymakers, researchers, and analysts assess poverty levels, economic growth, and financial behavior among Filipino households."
   ]
  },
  {
   "cell_type": "markdown",
   "metadata": {
    "id": "__6ebpMSHQcL"
   },
   "source": [
    "# Python Libaries and Modules"
   ]
  },
  {
   "cell_type": "code",
   "execution_count": 594,
   "metadata": {
    "executionInfo": {
     "elapsed": 13,
     "status": "ok",
     "timestamp": 1742031434064,
     "user": {
      "displayName": "Joaquin Andres Rodriguez",
      "userId": "10473083297834192702"
     },
     "user_tz": -480
    },
    "id": "tYCf95H0LaIx"
   },
   "outputs": [],
   "source": [
    "import pandas as pd\n",
    "import matplotlib.pyplot as plt\n",
    "import seaborn as sns"
   ]
  },
  {
   "cell_type": "markdown",
   "metadata": {
    "id": "0b8px8NUKfJu"
   },
   "source": []
  },
  {
   "cell_type": "markdown",
   "metadata": {
    "id": "F6teVMegHYRw"
   },
   "source": [
    "# Data Preprocessing and Cleaning"
   ]
  },
  {
   "cell_type": "markdown",
   "metadata": {
    "id": "haWQyygMCUVl"
   },
   "source": [
    "The data was preprocessed and cleaned through these methods in order:"
   ]
  },
  {
   "cell_type": "markdown",
   "metadata": {
    "id": "-p99tV_cHdjz"
   },
   "source": [
    "**1.) Standardizing Column Names**\n",
    "- Column names were stripped of whitespace, converted to uppercase, and spaces were replaced with underscores to ensure consistency and avoid potential errors when referencing column names in code."
   ]
  },
  {
   "cell_type": "markdown",
   "metadata": {
    "id": "E5-fwgm7CaZV"
   },
   "source": [
    "**2.) Handling Missing Values**\n",
    "- Columns with more than 50% missing values were dropped.\n",
    "For numerical columns, missing values were filled with the median of the respective column.\n",
    "For categorical columns, missing values were filled with the mode (most frequent value).\n",
    "- Dropping columns with excessive missing values prevents misleading analysis.\n",
    "Using the median for numerical data avoids the influence of outliers.\n",
    "- Three specific categorical columns were modified: OCCUP, KB, and CW. If there is no value in OCCUP, there is no value as well in KB and CW. Zero values replaced the N/A ones for all three of them. In CW specifically, since 0 is already used there, all the zeroes were transformed to 7 first before filling up all the N/A values with zeroes.\n",
    "- Asset ownership features that did not have any input were assumed to have a value of 0 (meaning they do not own that item)."
   ]
  },
  {
   "cell_type": "markdown",
   "metadata": {
    "id": "h057up-xCqXk"
   },
   "source": [
    "**3.) Removing Duplicates**\n",
    "- Duplicate rows were removed as they could distort results and introduce bias."
   ]
  },
  {
   "cell_type": "markdown",
   "metadata": {
    "id": "9TMCBaszC4s2"
   },
   "source": [
    "**4.) Converting Data Types**\n",
    "- Categorical columns (e.g., region, employment status, household type) were converted to category type.\n",
    "Income and expenditure columns were converted to float.\n",
    "- Converting numerical columns to float ensures compatibility with mathematical operations whilst categorical columns were converted to category type for easier referencing."
   ]
  },
  {
   "cell_type": "markdown",
   "metadata": {
    "id": "nlTcp2CdDKF0"
   },
   "source": [
    "**5.) Handling Outliers**\n",
    "- The Interquartile Range (IQR) method was used to cap extreme values:\n",
    "Values below Q1 - 1.5 * IQR were replaced with the lower bound.\n",
    "Values above Q3 + 1.5 * IQR were replaced with the upper bound.\n",
    "- Outliers can distort statistical analysis and machine learning models.\n",
    "The IQR method retains the distribution's general shape while reducing the influence of extreme values."
   ]
  },
  {
   "cell_type": "code",
   "execution_count": 603,
   "metadata": {},
   "outputs": [],
   "source": [
    "incexp_df = pd.read_csv(\"FIES_2012_Cleaned.csv\")\n",
    "import pandas as pd\n",
    "import numpy as np\n",
    "\n",
    "\n",
    "\n",
    "# List of numeric columns\n",
    "numeric_columns = ['W_SHSN', 'NATDC', 'HSE_ALTERTN', 'PSU', 'REGPC', 'T_ACTRENT',\n",
    "                   'T_BIMPUTED_RENT', 'T_RENTVAL', 'BLDG_TYPE', 'RFACT', 'FSIZE', 'WALLS',\n",
    "                   'BWEIGHT', 'AGRI_SAL', 'RSTR', 'NONAGRI_SAL', 'T_IMPUTED_RENT', 'AGE',\n",
    "                   'T_FOOD_NEC', 'MEMBERS', 'NATPC', 'ROOF', 'FOOD_ACCOM_SRVC', 'W_HCN',\n",
    "                   'POP_ADJ', 'SPOUSE_EMP', 'REGDC', 'HGC']\n",
    "\n",
    "income_expenditure_columns = [\n",
    "    \"WAGES\", \"NETSHARE\", \"CASH_ABROAD\", \"CASH_DOMESTIC\", \"RENTALS_REC\", \"INTEREST\", \"PENSION\", \"DIVIDENDS\",\n",
    "    \"OTHER_SOURCE\", \"NET_RECEIPT\", \"REGFT\", \"NET_CFG\", \"NET_LPR\", \"NET_FISH\", \"NET_FOR\", \"NET_RET\", \"NET_MFG\",\n",
    "    \"NET_COM\", \"NET_TRANS\", \"NET_MIN\", \"NET_CONS\", \"NET_NEC\", \"EAINC\", \"TOINC\", \"LOSSES\", \"T_BREAD\", \"T_MEAT\",\n",
    "    \"T_FISH\", \"T_MILK\", \"T_OIL\", \"T_FRUIT\", \"T_VEG\", \"T_SUGAR\", \"T_COFFEE\", \"T_MINERAL\", \"T_ALCOHOL\", \"T_TOBACCO\",\n",
    "    \"T_OTHER_VEG\", \"T_FOOD_HOME\", \"T_FOOD_OUTSIDE\", \"T_FOOD\", \"T_CLOTH\", \"T_FURNISHING\", \"T_HEALTH\", \"T_HOUSING_WATER\",\n",
    "    \"T_TRANSPORT\", \"T_COMMUNICATION\", \"T_RECREATION\", \"T_EDUCATION\", \"T_MISCELLANEOUS\", \"T_OTHER_EXPENDITURE\",\n",
    "    \"T_OTHER_DISBURSEMENT\", \"T_NFOOD\", \"T_TOTEX\", \"T_TOTDIS\", \"T_OTHREC\", \"T_TOREC\", \"PCINC\"\n",
    "]\n",
    "\n",
    "# Combine both lists\n",
    "all_columns = numeric_columns + income_expenditure_columns\n",
    "\n",
    "# Outlier handling function using IQR\n",
    "def handle_outliers(df, column):\n",
    "    Q1 = df[column].quantile(0.25)\n",
    "    Q3 = df[column].quantile(0.75)\n",
    "    IQR = Q3 - Q1\n",
    "\n",
    "    lower_bound = Q1 - 1.5 * IQR\n",
    "    upper_bound = Q3 + 1.5 * IQR\n",
    "\n",
    "    # Cap the outliers\n",
    "    df[column] = np.where(df[column] < lower_bound, lower_bound, df[column])\n",
    "    df[column] = np.where(df[column] > upper_bound, upper_bound, df[column])\n",
    "\n",
    "    return df\n",
    "\n",
    "# Apply the outlier handling function to the selected columns\n",
    "for col in all_columns:\n",
    "    if col in incexp_df.columns:\n",
    "        incexp_df = handle_outliers(incexp_df, col)\n"
   ]
  },
  {
   "cell_type": "markdown",
   "metadata": {
    "id": "LuuZxv5hHd_k"
   },
   "source": [
    "# Exploratory Data Analysis\n",
    "\n"
   ]
  },
  {
   "cell_type": "markdown",
   "metadata": {
    "id": "C65nkJtJHiH_"
   },
   "source": [
    "Sanity check if there are missing values left in the cleaned dataset file"
   ]
  },
  {
   "cell_type": "code",
   "execution_count": 606,
   "metadata": {
    "colab": {
     "base_uri": "https://localhost:8080/"
    },
    "executionInfo": {
     "elapsed": 96,
     "status": "ok",
     "timestamp": 1742031434154,
     "user": {
      "displayName": "Joaquin Andres Rodriguez",
      "userId": "10473083297834192702"
     },
     "user_tz": -480
    },
    "id": "NKRXpLCZMRiu",
    "outputId": "e2492840-7e2e-43f2-bc91-207e9d40605d"
   },
   "outputs": [
    {
     "name": "stdout",
     "output_type": "stream",
     "text": [
      "Missing values per column:\n",
      " Series([], dtype: int64)\n",
      "Columns with Missing Values and Their Data Types:\n",
      "\n",
      "Empty DataFrame\n",
      "Columns: [Missing Values, Data Type]\n",
      "Index: []\n"
     ]
    }
   ],
   "source": [
    "missing_values = incexp_df.isnull().sum()\n",
    "print(\"Missing values per column:\\n\", missing_values[missing_values > 0])\n",
    "# Get data types of each column\n",
    "data_types = incexp_df.dtypes\n",
    "\n",
    "# Display columns with missing values along with their data types\n",
    "missing_data_info = pd.DataFrame({\n",
    "    \"Missing Values\": missing_values[missing_values > 0],\n",
    "    \"Data Type\": data_types[missing_values > 0]\n",
    "})\n",
    "\n",
    "print(\"Columns with Missing Values and Their Data Types:\\n\")\n",
    "print(missing_data_info)"
   ]
  },
  {
   "cell_type": "markdown",
   "metadata": {
    "id": "mJ_765ldtOtW"
   },
   "source": [
    "## Display Dataset/Table Information\n",
    "In order to familiarize ourselves with out dataset, we first display the info of our dataset using the `.info()` function. Here we can see the number of rows and columns and the variable type of each feature."
   ]
  },
  {
   "cell_type": "code",
   "execution_count": 608,
   "metadata": {
    "colab": {
     "base_uri": "https://localhost:8080/"
    },
    "executionInfo": {
     "elapsed": 5,
     "status": "ok",
     "timestamp": 1742031434158,
     "user": {
      "displayName": "Joaquin Andres Rodriguez",
      "userId": "10473083297834192702"
     },
     "user_tz": -480
    },
    "id": "b1S7NljFtUoz",
    "outputId": "ff4bf31d-2f0d-47ca-e347-26ecca5f6719"
   },
   "outputs": [
    {
     "name": "stdout",
     "output_type": "stream",
     "text": [
      "<class 'pandas.core.frame.DataFrame'>\n",
      "RangeIndex: 40171 entries, 0 to 40170\n",
      "Columns: 119 entries, W_REGN to REGPC\n",
      "dtypes: float64(102), int64(17)\n",
      "memory usage: 36.5 MB\n",
      "\n",
      "Rows and columns of the Dataset:\n",
      "(40171, 119)\n"
     ]
    }
   ],
   "source": [
    "# prints the info on the dataset\n",
    "incexp_df.info()\n",
    "\n",
    "# prints the rows and columns of the dataset\n",
    "print(\"\\nRows and columns of the Dataset:\")\n",
    "print(incexp_df.shape)"
   ]
  },
  {
   "cell_type": "markdown",
   "metadata": {
    "id": "E8IPjjDkzbMi"
   },
   "source": [
    "## Using `.head()` and `.tail()` function\n",
    "We use the head and tail function to see what are the first values and the last value of the dataset. This is to give an idea on what kind of values we are working with."
   ]
  },
  {
   "cell_type": "code",
   "execution_count": 610,
   "metadata": {
    "colab": {
     "base_uri": "https://localhost:8080/",
     "height": 255
    },
    "executionInfo": {
     "elapsed": 34,
     "status": "ok",
     "timestamp": 1742031434192,
     "user": {
      "displayName": "Joaquin Andres Rodriguez",
      "userId": "10473083297834192702"
     },
     "user_tz": -480
    },
    "id": "CEma8kqbz27D",
    "outputId": "c25824ad-6a9f-4d1b-9427-67b712937af1"
   },
   "outputs": [
    {
     "data": {
      "text/html": [
       "<div>\n",
       "<style scoped>\n",
       "    .dataframe tbody tr th:only-of-type {\n",
       "        vertical-align: middle;\n",
       "    }\n",
       "\n",
       "    .dataframe tbody tr th {\n",
       "        vertical-align: top;\n",
       "    }\n",
       "\n",
       "    .dataframe thead th {\n",
       "        text-align: right;\n",
       "    }\n",
       "</style>\n",
       "<table border=\"1\" class=\"dataframe\">\n",
       "  <thead>\n",
       "    <tr style=\"text-align: right;\">\n",
       "      <th></th>\n",
       "      <th>W_REGN</th>\n",
       "      <th>W_OID</th>\n",
       "      <th>W_SHSN</th>\n",
       "      <th>W_HCN</th>\n",
       "      <th>URB</th>\n",
       "      <th>RSTR</th>\n",
       "      <th>PSU</th>\n",
       "      <th>BWEIGHT</th>\n",
       "      <th>RFACT</th>\n",
       "      <th>FSIZE</th>\n",
       "      <th>...</th>\n",
       "      <th>PC_QTY</th>\n",
       "      <th>OVEN_QTY</th>\n",
       "      <th>MOTOR_BANCA_QTY</th>\n",
       "      <th>MOTORCYCLE_QTY</th>\n",
       "      <th>POP_ADJ</th>\n",
       "      <th>PCINC</th>\n",
       "      <th>NATPC</th>\n",
       "      <th>NATDC</th>\n",
       "      <th>REGDC</th>\n",
       "      <th>REGPC</th>\n",
       "    </tr>\n",
       "  </thead>\n",
       "  <tbody>\n",
       "    <tr>\n",
       "      <th>0</th>\n",
       "      <td>14</td>\n",
       "      <td>101001000</td>\n",
       "      <td>2.0</td>\n",
       "      <td>25.0</td>\n",
       "      <td>2</td>\n",
       "      <td>21100.0</td>\n",
       "      <td>415052.0</td>\n",
       "      <td>138.25</td>\n",
       "      <td>200.6576</td>\n",
       "      <td>3.0</td>\n",
       "      <td>...</td>\n",
       "      <td>1.0</td>\n",
       "      <td>1.0</td>\n",
       "      <td>0.0</td>\n",
       "      <td>0.0</td>\n",
       "      <td>0.946172</td>\n",
       "      <td>11.593749</td>\n",
       "      <td>9.0</td>\n",
       "      <td>8.0</td>\n",
       "      <td>8.0</td>\n",
       "      <td>9.0</td>\n",
       "    </tr>\n",
       "    <tr>\n",
       "      <th>1</th>\n",
       "      <td>14</td>\n",
       "      <td>101001000</td>\n",
       "      <td>3.0</td>\n",
       "      <td>43.0</td>\n",
       "      <td>2</td>\n",
       "      <td>21100.0</td>\n",
       "      <td>415052.0</td>\n",
       "      <td>138.25</td>\n",
       "      <td>200.6576</td>\n",
       "      <td>10.5</td>\n",
       "      <td>...</td>\n",
       "      <td>0.0</td>\n",
       "      <td>1.0</td>\n",
       "      <td>0.0</td>\n",
       "      <td>1.0</td>\n",
       "      <td>0.946172</td>\n",
       "      <td>10.329820</td>\n",
       "      <td>5.0</td>\n",
       "      <td>9.0</td>\n",
       "      <td>9.0</td>\n",
       "      <td>4.0</td>\n",
       "    </tr>\n",
       "    <tr>\n",
       "      <th>2</th>\n",
       "      <td>14</td>\n",
       "      <td>101001000</td>\n",
       "      <td>4.0</td>\n",
       "      <td>62.0</td>\n",
       "      <td>2</td>\n",
       "      <td>21100.0</td>\n",
       "      <td>415052.0</td>\n",
       "      <td>138.25</td>\n",
       "      <td>200.6576</td>\n",
       "      <td>2.0</td>\n",
       "      <td>...</td>\n",
       "      <td>0.0</td>\n",
       "      <td>1.0</td>\n",
       "      <td>0.0</td>\n",
       "      <td>0.0</td>\n",
       "      <td>0.946172</td>\n",
       "      <td>11.373589</td>\n",
       "      <td>9.0</td>\n",
       "      <td>6.0</td>\n",
       "      <td>6.0</td>\n",
       "      <td>8.0</td>\n",
       "    </tr>\n",
       "    <tr>\n",
       "      <th>3</th>\n",
       "      <td>14</td>\n",
       "      <td>101001000</td>\n",
       "      <td>5.0</td>\n",
       "      <td>79.0</td>\n",
       "      <td>2</td>\n",
       "      <td>21100.0</td>\n",
       "      <td>415052.0</td>\n",
       "      <td>138.25</td>\n",
       "      <td>200.6576</td>\n",
       "      <td>4.0</td>\n",
       "      <td>...</td>\n",
       "      <td>0.0</td>\n",
       "      <td>1.0</td>\n",
       "      <td>0.0</td>\n",
       "      <td>0.0</td>\n",
       "      <td>0.946172</td>\n",
       "      <td>10.676526</td>\n",
       "      <td>6.0</td>\n",
       "      <td>6.0</td>\n",
       "      <td>6.0</td>\n",
       "      <td>6.0</td>\n",
       "    </tr>\n",
       "    <tr>\n",
       "      <th>4</th>\n",
       "      <td>14</td>\n",
       "      <td>101001000</td>\n",
       "      <td>10.0</td>\n",
       "      <td>165.0</td>\n",
       "      <td>2</td>\n",
       "      <td>21100.0</td>\n",
       "      <td>415052.0</td>\n",
       "      <td>138.25</td>\n",
       "      <td>200.6576</td>\n",
       "      <td>5.0</td>\n",
       "      <td>...</td>\n",
       "      <td>0.0</td>\n",
       "      <td>0.0</td>\n",
       "      <td>0.0</td>\n",
       "      <td>1.0</td>\n",
       "      <td>0.946172</td>\n",
       "      <td>10.531637</td>\n",
       "      <td>6.0</td>\n",
       "      <td>6.0</td>\n",
       "      <td>6.0</td>\n",
       "      <td>5.0</td>\n",
       "    </tr>\n",
       "  </tbody>\n",
       "</table>\n",
       "<p>5 rows × 119 columns</p>\n",
       "</div>"
      ],
      "text/plain": [
       "   W_REGN      W_OID  W_SHSN  W_HCN  URB     RSTR       PSU  BWEIGHT  \\\n",
       "0      14  101001000     2.0   25.0    2  21100.0  415052.0   138.25   \n",
       "1      14  101001000     3.0   43.0    2  21100.0  415052.0   138.25   \n",
       "2      14  101001000     4.0   62.0    2  21100.0  415052.0   138.25   \n",
       "3      14  101001000     5.0   79.0    2  21100.0  415052.0   138.25   \n",
       "4      14  101001000    10.0  165.0    2  21100.0  415052.0   138.25   \n",
       "\n",
       "      RFACT  FSIZE  ...  PC_QTY  OVEN_QTY  MOTOR_BANCA_QTY  MOTORCYCLE_QTY  \\\n",
       "0  200.6576    3.0  ...     1.0       1.0              0.0             0.0   \n",
       "1  200.6576   10.5  ...     0.0       1.0              0.0             1.0   \n",
       "2  200.6576    2.0  ...     0.0       1.0              0.0             0.0   \n",
       "3  200.6576    4.0  ...     0.0       1.0              0.0             0.0   \n",
       "4  200.6576    5.0  ...     0.0       0.0              0.0             1.0   \n",
       "\n",
       "    POP_ADJ      PCINC  NATPC  NATDC  REGDC  REGPC  \n",
       "0  0.946172  11.593749    9.0    8.0    8.0    9.0  \n",
       "1  0.946172  10.329820    5.0    9.0    9.0    4.0  \n",
       "2  0.946172  11.373589    9.0    6.0    6.0    8.0  \n",
       "3  0.946172  10.676526    6.0    6.0    6.0    6.0  \n",
       "4  0.946172  10.531637    6.0    6.0    6.0    5.0  \n",
       "\n",
       "[5 rows x 119 columns]"
      ]
     },
     "execution_count": 610,
     "metadata": {},
     "output_type": "execute_result"
    }
   ],
   "source": [
    "incexp_df.head()"
   ]
  },
  {
   "cell_type": "code",
   "execution_count": 611,
   "metadata": {
    "colab": {
     "base_uri": "https://localhost:8080/",
     "height": 255
    },
    "executionInfo": {
     "elapsed": 43,
     "status": "ok",
     "timestamp": 1742031434235,
     "user": {
      "displayName": "Joaquin Andres Rodriguez",
      "userId": "10473083297834192702"
     },
     "user_tz": -480
    },
    "id": "Dx8iRTqW0dvd",
    "outputId": "9d166f6e-04b4-41b2-d3e5-0b05126ff5eb"
   },
   "outputs": [
    {
     "data": {
      "text/html": [
       "<div>\n",
       "<style scoped>\n",
       "    .dataframe tbody tr th:only-of-type {\n",
       "        vertical-align: middle;\n",
       "    }\n",
       "\n",
       "    .dataframe tbody tr th {\n",
       "        vertical-align: top;\n",
       "    }\n",
       "\n",
       "    .dataframe thead th {\n",
       "        text-align: right;\n",
       "    }\n",
       "</style>\n",
       "<table border=\"1\" class=\"dataframe\">\n",
       "  <thead>\n",
       "    <tr style=\"text-align: right;\">\n",
       "      <th></th>\n",
       "      <th>W_REGN</th>\n",
       "      <th>W_OID</th>\n",
       "      <th>W_SHSN</th>\n",
       "      <th>W_HCN</th>\n",
       "      <th>URB</th>\n",
       "      <th>RSTR</th>\n",
       "      <th>PSU</th>\n",
       "      <th>BWEIGHT</th>\n",
       "      <th>RFACT</th>\n",
       "      <th>FSIZE</th>\n",
       "      <th>...</th>\n",
       "      <th>PC_QTY</th>\n",
       "      <th>OVEN_QTY</th>\n",
       "      <th>MOTOR_BANCA_QTY</th>\n",
       "      <th>MOTORCYCLE_QTY</th>\n",
       "      <th>POP_ADJ</th>\n",
       "      <th>PCINC</th>\n",
       "      <th>NATPC</th>\n",
       "      <th>NATDC</th>\n",
       "      <th>REGDC</th>\n",
       "      <th>REGPC</th>\n",
       "    </tr>\n",
       "  </thead>\n",
       "  <tbody>\n",
       "    <tr>\n",
       "      <th>40166</th>\n",
       "      <td>12</td>\n",
       "      <td>9804029001</td>\n",
       "      <td>18.0</td>\n",
       "      <td>568.0</td>\n",
       "      <td>1</td>\n",
       "      <td>22000.0</td>\n",
       "      <td>114062.0</td>\n",
       "      <td>271.25</td>\n",
       "      <td>963.2264</td>\n",
       "      <td>5.0</td>\n",
       "      <td>...</td>\n",
       "      <td>0.0</td>\n",
       "      <td>0.0</td>\n",
       "      <td>0.0</td>\n",
       "      <td>0.0</td>\n",
       "      <td>0.902863</td>\n",
       "      <td>10.312367</td>\n",
       "      <td>5.0</td>\n",
       "      <td>5.0</td>\n",
       "      <td>7.0</td>\n",
       "      <td>7.0</td>\n",
       "    </tr>\n",
       "    <tr>\n",
       "      <th>40167</th>\n",
       "      <td>12</td>\n",
       "      <td>9804035000</td>\n",
       "      <td>1.0</td>\n",
       "      <td>25.0</td>\n",
       "      <td>2</td>\n",
       "      <td>22000.0</td>\n",
       "      <td>414067.0</td>\n",
       "      <td>271.25</td>\n",
       "      <td>588.6253</td>\n",
       "      <td>9.0</td>\n",
       "      <td>...</td>\n",
       "      <td>0.0</td>\n",
       "      <td>1.0</td>\n",
       "      <td>0.0</td>\n",
       "      <td>0.0</td>\n",
       "      <td>0.902863</td>\n",
       "      <td>9.572890</td>\n",
       "      <td>1.0</td>\n",
       "      <td>5.0</td>\n",
       "      <td>7.0</td>\n",
       "      <td>3.0</td>\n",
       "    </tr>\n",
       "    <tr>\n",
       "      <th>40168</th>\n",
       "      <td>12</td>\n",
       "      <td>9804035000</td>\n",
       "      <td>2.0</td>\n",
       "      <td>51.0</td>\n",
       "      <td>2</td>\n",
       "      <td>22000.0</td>\n",
       "      <td>414067.0</td>\n",
       "      <td>271.25</td>\n",
       "      <td>588.6253</td>\n",
       "      <td>6.0</td>\n",
       "      <td>...</td>\n",
       "      <td>0.0</td>\n",
       "      <td>0.0</td>\n",
       "      <td>0.0</td>\n",
       "      <td>0.0</td>\n",
       "      <td>0.902863</td>\n",
       "      <td>9.859448</td>\n",
       "      <td>3.0</td>\n",
       "      <td>4.0</td>\n",
       "      <td>6.0</td>\n",
       "      <td>4.0</td>\n",
       "    </tr>\n",
       "    <tr>\n",
       "      <th>40169</th>\n",
       "      <td>12</td>\n",
       "      <td>9804035000</td>\n",
       "      <td>3.0</td>\n",
       "      <td>75.0</td>\n",
       "      <td>2</td>\n",
       "      <td>22000.0</td>\n",
       "      <td>414067.0</td>\n",
       "      <td>271.25</td>\n",
       "      <td>588.6253</td>\n",
       "      <td>5.0</td>\n",
       "      <td>...</td>\n",
       "      <td>0.0</td>\n",
       "      <td>1.0</td>\n",
       "      <td>0.0</td>\n",
       "      <td>0.0</td>\n",
       "      <td>0.902863</td>\n",
       "      <td>10.341291</td>\n",
       "      <td>5.0</td>\n",
       "      <td>6.0</td>\n",
       "      <td>7.0</td>\n",
       "      <td>7.0</td>\n",
       "    </tr>\n",
       "    <tr>\n",
       "      <th>40170</th>\n",
       "      <td>12</td>\n",
       "      <td>9804035000</td>\n",
       "      <td>4.0</td>\n",
       "      <td>102.0</td>\n",
       "      <td>2</td>\n",
       "      <td>22000.0</td>\n",
       "      <td>414067.0</td>\n",
       "      <td>271.25</td>\n",
       "      <td>588.6253</td>\n",
       "      <td>7.0</td>\n",
       "      <td>...</td>\n",
       "      <td>0.0</td>\n",
       "      <td>0.0</td>\n",
       "      <td>0.0</td>\n",
       "      <td>0.0</td>\n",
       "      <td>0.902863</td>\n",
       "      <td>9.663897</td>\n",
       "      <td>2.0</td>\n",
       "      <td>4.0</td>\n",
       "      <td>6.0</td>\n",
       "      <td>3.0</td>\n",
       "    </tr>\n",
       "  </tbody>\n",
       "</table>\n",
       "<p>5 rows × 119 columns</p>\n",
       "</div>"
      ],
      "text/plain": [
       "       W_REGN       W_OID  W_SHSN  W_HCN  URB     RSTR       PSU  BWEIGHT  \\\n",
       "40166      12  9804029001    18.0  568.0    1  22000.0  114062.0   271.25   \n",
       "40167      12  9804035000     1.0   25.0    2  22000.0  414067.0   271.25   \n",
       "40168      12  9804035000     2.0   51.0    2  22000.0  414067.0   271.25   \n",
       "40169      12  9804035000     3.0   75.0    2  22000.0  414067.0   271.25   \n",
       "40170      12  9804035000     4.0  102.0    2  22000.0  414067.0   271.25   \n",
       "\n",
       "          RFACT  FSIZE  ...  PC_QTY  OVEN_QTY  MOTOR_BANCA_QTY  \\\n",
       "40166  963.2264    5.0  ...     0.0       0.0              0.0   \n",
       "40167  588.6253    9.0  ...     0.0       1.0              0.0   \n",
       "40168  588.6253    6.0  ...     0.0       0.0              0.0   \n",
       "40169  588.6253    5.0  ...     0.0       1.0              0.0   \n",
       "40170  588.6253    7.0  ...     0.0       0.0              0.0   \n",
       "\n",
       "       MOTORCYCLE_QTY   POP_ADJ      PCINC  NATPC  NATDC  REGDC  REGPC  \n",
       "40166             0.0  0.902863  10.312367    5.0    5.0    7.0    7.0  \n",
       "40167             0.0  0.902863   9.572890    1.0    5.0    7.0    3.0  \n",
       "40168             0.0  0.902863   9.859448    3.0    4.0    6.0    4.0  \n",
       "40169             0.0  0.902863  10.341291    5.0    6.0    7.0    7.0  \n",
       "40170             0.0  0.902863   9.663897    2.0    4.0    6.0    3.0  \n",
       "\n",
       "[5 rows x 119 columns]"
      ]
     },
     "execution_count": 611,
     "metadata": {},
     "output_type": "execute_result"
    }
   ],
   "source": [
    "incexp_df.tail()"
   ]
  },
  {
   "cell_type": "code",
   "execution_count": 612,
   "metadata": {
    "colab": {
     "base_uri": "https://localhost:8080/"
    },
    "executionInfo": {
     "elapsed": 3,
     "status": "ok",
     "timestamp": 1742031434239,
     "user": {
      "displayName": "Joaquin Andres Rodriguez",
      "userId": "10473083297834192702"
     },
     "user_tz": -480
    },
    "id": "CXB4cuMo_bte",
    "outputId": "da72148b-0736-4037-b3a9-731db8cd2293"
   },
   "outputs": [
    {
     "name": "stdout",
     "output_type": "stream",
     "text": [
      "W_REGN                    int64\n",
      "W_OID                     int64\n",
      "W_SHSN                  float64\n",
      "W_HCN                   float64\n",
      "URB                       int64\n",
      "RSTR                    float64\n",
      "PSU                     float64\n",
      "BWEIGHT                 float64\n",
      "RFACT                   float64\n",
      "FSIZE                   float64\n",
      "AGRI_SAL                float64\n",
      "NONAGRI_SAL             float64\n",
      "WAGES                   float64\n",
      "NETSHARE                float64\n",
      "CASH_ABROAD             float64\n",
      "CASH_DOMESTIC           float64\n",
      "RENTALS_REC             float64\n",
      "INTEREST                float64\n",
      "PENSION                 float64\n",
      "DIVIDENDS               float64\n",
      "OTHER_SOURCE            float64\n",
      "NET_RECEIPT             float64\n",
      "REGFT                   float64\n",
      "NET_CFG                 float64\n",
      "NET_LPR                 float64\n",
      "NET_FISH                float64\n",
      "NET_FOR                 float64\n",
      "NET_RET                 float64\n",
      "NET_MFG                 float64\n",
      "NET_COM                 float64\n",
      "NET_TRANS               float64\n",
      "NET_MIN                 float64\n",
      "NET_CONS                float64\n",
      "NET_NEC                 float64\n",
      "EAINC                   float64\n",
      "TOINC                   float64\n",
      "LOSSES                  float64\n",
      "T_BREAD                 float64\n",
      "T_MEAT                  float64\n",
      "T_FISH                  float64\n",
      "T_MILK                  float64\n",
      "T_OIL                   float64\n",
      "T_FRUIT                 float64\n",
      "T_VEG                   float64\n",
      "T_SUGAR                 float64\n",
      "T_FOOD_NEC              float64\n",
      "T_COFFEE                float64\n",
      "T_MINERAL               float64\n",
      "T_ALCOHOL               float64\n",
      "T_TOBACCO               float64\n",
      "T_OTHER_VEG             float64\n",
      "T_FOOD_HOME             float64\n",
      "T_FOOD_OUTSIDE          float64\n",
      "T_FOOD                  float64\n",
      "T_CLOTH                 float64\n",
      "T_FURNISHING            float64\n",
      "T_HEALTH                float64\n",
      "T_HOUSING_WATER         float64\n",
      "T_ACTRENT               float64\n",
      "T_RENTVAL               float64\n",
      "T_IMPUTED_RENT          float64\n",
      "T_BIMPUTED_RENT         float64\n",
      "T_TRANSPORT             float64\n",
      "T_COMMUNICATION         float64\n",
      "T_RECREATION            float64\n",
      "T_EDUCATION             float64\n",
      "T_MISCELLANEOUS         float64\n",
      "T_OTHER_EXPENDITURE     float64\n",
      "T_OTHER_DISBURSEMENT    float64\n",
      "T_NFOOD                 float64\n",
      "T_TOTEX                 float64\n",
      "T_TOTDIS                float64\n",
      "T_OTHREC                float64\n",
      "T_TOREC                 float64\n",
      "FOOD_ACCOM_SRVC         float64\n",
      "SEX                       int64\n",
      "AGE                     float64\n",
      "MS                        int64\n",
      "HGC                     float64\n",
      "JOB                       int64\n",
      "OCCUP                     int64\n",
      "KB                        int64\n",
      "CW                      float64\n",
      "HHTYPE                    int64\n",
      "MEMBERS                 float64\n",
      "AGELESS5                  int64\n",
      "AGE5_17                   int64\n",
      "EMPLOYED_PAY              int64\n",
      "EMPLOYED_PROF             int64\n",
      "SPOUSE_EMP              float64\n",
      "BLDG_TYPE               float64\n",
      "ROOF                    float64\n",
      "WALLS                   float64\n",
      "TENURE                    int64\n",
      "HSE_ALTERTN             float64\n",
      "TOILET                    int64\n",
      "ELECTRIC                  int64\n",
      "WATER                     int64\n",
      "DISTANCE                float64\n",
      "RADIO_QTY               float64\n",
      "TV_QTY                  float64\n",
      "CD_QTY                  float64\n",
      "STEREO_QTY              float64\n",
      "REF_QTY                 float64\n",
      "WASH_QTY                float64\n",
      "AIRCON_QTY              float64\n",
      "CAR_QTY                 float64\n",
      "LANDLINE_QTY            float64\n",
      "CELLPHONE_QTY           float64\n",
      "PC_QTY                  float64\n",
      "OVEN_QTY                float64\n",
      "MOTOR_BANCA_QTY         float64\n",
      "MOTORCYCLE_QTY          float64\n",
      "POP_ADJ                 float64\n",
      "PCINC                   float64\n",
      "NATPC                   float64\n",
      "NATDC                   float64\n",
      "REGDC                   float64\n",
      "REGPC                   float64\n",
      "dtype: object\n"
     ]
    }
   ],
   "source": [
    "print(incexp_df.dtypes)"
   ]
  },
  {
   "cell_type": "markdown",
   "metadata": {},
   "source": [
    "## Label Variable Distribution (Electric)"
   ]
  },
  {
   "cell_type": "markdown",
   "metadata": {},
   "source": [
    "The distribution of the ELECTRIC column is heavily skewed towards those who already have electricity. Due to this, remodelling is needed in order for the machine learning models to work properly. "
   ]
  },
  {
   "cell_type": "code",
   "execution_count": 615,
   "metadata": {},
   "outputs": [
    {
     "data": {
      "image/png": "[encoded data removed]",
      "text/plain": [
       "<Figure size 640x480 with 1 Axes>"
      ]
     },
     "metadata": {},
     "output_type": "display_data"
    }
   ],
   "source": [
    "incexp_df['ELECTRIC'].value_counts().plot(kind='bar')\n",
    "plt.title('Target Variable Distribution')\n",
    "plt.xlabel('Income Decile')\n",
    "plt.ylabel('Count')\n",
    "plt.show()"
   ]
  },
  {
   "cell_type": "markdown",
   "metadata": {},
   "source": [
    "The two categories (1 and 2) of ELECTRIC need to be equalized by either creating synthetic data for the lacking category (2) or by deleting rows from the ample category (1). The majority class was undersampled so that we can still use realworld data for training and to prevent overfitting from too many rows of features."
   ]
  },
  {
   "cell_type": "code",
   "execution_count": 617,
   "metadata": {},
   "outputs": [
    {
     "name": "stdout",
     "output_type": "stream",
     "text": [
      "Class distribution before balancing:\n",
      "ELECTRIC\n",
      "1    34886\n",
      "2     5285\n",
      "Name: count, dtype: int64\n",
      "\n",
      "Class distribution after balancing:\n",
      "ELECTRIC\n",
      "1    5285\n",
      "2    5285\n",
      "Name: count, dtype: int64\n",
      "\n",
      "Sample of the balanced dataset:\n",
      "   W_REGN       W_OID    W_SHSN     W_HCN  URB      RSTR       PSU   BWEIGHT  \\\n",
      "0      13  7501120004  1.189398  1.922436    1  1.463552 -0.386650  0.871048   \n",
      "1       2  1513033002  0.543651 -0.548448    2  1.012240 -1.398083 -1.137228   \n",
      "2      11  2401016000 -0.102096 -0.419345    2 -0.441989 -0.403210 -0.409227   \n",
      "3      12  4701001002  1.189398 -0.236450    1  0.510782  0.493164 -0.671391   \n",
      "4       1  5503031001 -1.393590 -0.993135    2  0.611073 -0.513133  0.090228   \n",
      "\n",
      "      RFACT     FSIZE  ...  OVEN_QTY  MOTOR_BANCA_QTY  MOTORCYCLE_QTY  \\\n",
      "0  0.235254  0.621521  ... -0.392104        -0.092333       -0.429018   \n",
      "1 -1.143164 -1.730982  ... -0.392104        -0.092333       -0.429018   \n",
      "2 -0.622976  0.386270  ... -0.392104        -0.092333       -0.429018   \n",
      "3 -0.555542  2.738773  ... -0.392104        -0.092333       -0.429018   \n",
      "4  0.652976  0.151020  ... -0.392104        -0.092333       -0.429018   \n",
      "\n",
      "    POP_ADJ     PCINC     NATPC     NATDC     REGDC     REGPC  ELECTRIC  \n",
      "0 -1.919648 -0.698159 -0.776924 -0.433512 -1.550849 -1.555507         1  \n",
      "1  0.009701 -0.116199 -0.081162 -1.483767 -1.550849  0.190241         1  \n",
      "2 -0.379565 -1.626691 -1.472686 -1.483767 -1.550849 -1.555507         2  \n",
      "3 -1.121198 -1.664706 -1.472686 -0.783597 -0.155501 -1.555507         2  \n",
      "4  0.353938 -0.253338 -0.081162 -0.083427  0.193336 -0.158908         2  \n",
      "\n",
      "[5 rows x 119 columns]\n"
     ]
    }
   ],
   "source": [
    "# Import necessary libraries\n",
    "import pandas as pd\n",
    "from sklearn.preprocessing import StandardScaler\n",
    "from sklearn.utils import resample\n",
    "\n",
    "# Define categorical columns to exclude from standardization\n",
    "categorical_columns = [\n",
    "    # Text-based categorical\n",
    "    \"W_REGN\", \"URB\", \"SEX\", \"MS\", 'W_OID', \"JOB\", \"HHTYPE\", \"TENURE\", \"TOILET\", \"ELECTRIC\", \"WATER\",\n",
    "    # Numeric categorical \n",
    "    \"OCCUP\", \"KB\", \"CW\", \"AGELESS5\", \"AGE5_17\", \"EMPLOYED_PAY\", \"EMPLOYED_PROF\"\n",
    "]\n",
    "\n",
    "# Checking class distribution before balancing\n",
    "print(\"Class distribution before balancing:\")\n",
    "print(incexp_df['ELECTRIC'].value_counts())\n",
    "\n",
    "# Splitting features and target variable\n",
    "X = incexp_df.drop('ELECTRIC', axis=1)  # Drop the target column\n",
    "y = incexp_df['ELECTRIC']               # Target column\n",
    "\n",
    "# Separate categorical and numerical columns\n",
    "numerical_columns = [col for col in X.columns if col not in categorical_columns]\n",
    "\n",
    "# Standardize only numerical columns\n",
    "scaler = StandardScaler()\n",
    "X_scaled = X.copy()\n",
    "X_scaled[numerical_columns] = scaler.fit_transform(X[numerical_columns])\n",
    "\n",
    "# Combine scaled features and target back into a single DataFrame\n",
    "balanced_df = pd.concat([X_scaled, y.reset_index(drop=True)], axis=1)\n",
    "\n",
    "# Separate majority and minority classes\n",
    "majority_class = balanced_df[balanced_df['ELECTRIC'] == 1]\n",
    "minority_class = balanced_df[balanced_df['ELECTRIC'] == 2]\n",
    "\n",
    "### OPTION 1: Undersample Majority Class ###\n",
    "majority_undersampled = majority_class.sample(len(minority_class), random_state=42)\n",
    "balanced_df = pd.concat([majority_undersampled, minority_class])\n",
    "\n",
    "# Shuffle the balanced dataset\n",
    "balanced_df = balanced_df.sample(frac=1, random_state=42).reset_index(drop=True)\n",
    "\n",
    "# Update incexp_df with the balanced data\n",
    "incexp_df = balanced_df\n",
    "\n",
    "# Checking the new class distribution after balancing\n",
    "print(\"\\nClass distribution after balancing:\")\n",
    "print(incexp_df['ELECTRIC'].value_counts())\n",
    "\n",
    "# Displaying a few rows of the updated DataFrame\n",
    "print(\"\\nSample of the balanced dataset:\")\n",
    "print(incexp_df.head())\n"
   ]
  },
  {
   "cell_type": "markdown",
   "metadata": {
    "jp-MarkdownHeadingCollapsed": true
   },
   "source": [
    "## Feature Importance\n"
   ]
  },
  {
   "cell_type": "code",
   "execution_count": 619,
   "metadata": {},
   "outputs": [
    {
     "name": "stdout",
     "output_type": "stream",
     "text": [
      "Selected features: Index(['W_OID', 'RFACT', 'NET_RECEIPT', 'TOINC', 'T_MEAT', 'T_HOUSING_WATER',\n",
      "       'T_RENTVAL', 'T_IMPUTED_RENT', 'T_MISCELLANEOUS', 'T_NFOOD', 'T_TOTEX',\n",
      "       'T_TOTDIS', 'T_TOREC', 'TOILET', 'WATER', 'DISTANCE', 'TV_QTY',\n",
      "       'CD_QTY', 'REF_QTY', 'PCINC'],\n",
      "      dtype='object')\n"
     ]
    }
   ],
   "source": [
    "import pandas as pd\n",
    "from sklearn.feature_selection import RFE\n",
    "from sklearn.ensemble import RandomForestClassifier\n",
    "\n",
    "X = incexp_df.drop(columns=['ELECTRIC'])  \n",
    "y = incexp_df['ELECTRIC']\n",
    "\n",
    "rf = RandomForestClassifier()\n",
    "selector = RFE(rf, n_features_to_select=20, step=10)  # step=10 removes 10 features per iteration\n",
    "selector.fit(X, y)\n",
    "\n",
    "selected_features = X.columns[selector.support_]\n",
    "print(\"Selected features:\", selected_features)\n"
   ]
  },
  {
   "cell_type": "markdown",
   "metadata": {},
   "source": [
    "Selected features: Index(['W_OID', 'RFACT', 'NET_RECEIPT', 'REGFT', 'T_MEAT', 'T_MILK', 'T_VEG',\r\n",
    "       'T_SUGAR', 'T_HOUSING_WATER', 'T_RENTVAL', 'T_COMMUNICATION', 'T_NFOOD',\r\n",
    "       'T_TOTEX', 'TOILET', 'WATER', 'DISTANCE', 'TV_QTY', 'CD_QTY',\r\n",
    "       'CELLPHONE_QTY', 'PCINC'],\r\n",
    "      dtype='object')"
   ]
  },
  {
   "cell_type": "markdown",
   "metadata": {},
   "source": [
    "## Feature Analysis"
   ]
  },
  {
   "cell_type": "markdown",
   "metadata": {
    "id": "aP9qlqU87oWX"
   },
   "source": [
    "## Investigating Correlation between Features\n",
    "In this section, we will investigate which features have a high correlation with each other. This is to determine which features should be used or removed depending on the data analysis we want to apply."
   ]
  },
  {
   "cell_type": "markdown",
   "metadata": {
    "id": "BZl7mzNCFEo-"
   },
   "source": [
    "Here we test the correlation of the features `WAGES`, `AGRI_SAL`, `CASH_ABROAD`."
   ]
  },
  {
   "cell_type": "code",
   "execution_count": 624,
   "metadata": {
    "colab": {
     "base_uri": "https://localhost:8080/",
     "height": 143
    },
    "executionInfo": {
     "elapsed": 18,
     "status": "ok",
     "timestamp": 1742031435274,
     "user": {
      "displayName": "Joaquin Andres Rodriguez",
      "userId": "10473083297834192702"
     },
     "user_tz": -480
    },
    "id": "JuAg0xs09HoC",
    "outputId": "df086a73-d9ec-4159-94bd-49c11b3cc879"
   },
   "outputs": [
    {
     "data": {
      "text/html": [
       "<div>\n",
       "<style scoped>\n",
       "    .dataframe tbody tr th:only-of-type {\n",
       "        vertical-align: middle;\n",
       "    }\n",
       "\n",
       "    .dataframe tbody tr th {\n",
       "        vertical-align: top;\n",
       "    }\n",
       "\n",
       "    .dataframe thead th {\n",
       "        text-align: right;\n",
       "    }\n",
       "</style>\n",
       "<table border=\"1\" class=\"dataframe\">\n",
       "  <thead>\n",
       "    <tr style=\"text-align: right;\">\n",
       "      <th></th>\n",
       "      <th>WAGES</th>\n",
       "      <th>AGRI_SAL</th>\n",
       "      <th>CASH_ABROAD</th>\n",
       "    </tr>\n",
       "  </thead>\n",
       "  <tbody>\n",
       "    <tr>\n",
       "      <th>WAGES</th>\n",
       "      <td>1.000000</td>\n",
       "      <td>0.320024</td>\n",
       "      <td>-0.023256</td>\n",
       "    </tr>\n",
       "    <tr>\n",
       "      <th>AGRI_SAL</th>\n",
       "      <td>0.320024</td>\n",
       "      <td>1.000000</td>\n",
       "      <td>-0.190282</td>\n",
       "    </tr>\n",
       "    <tr>\n",
       "      <th>CASH_ABROAD</th>\n",
       "      <td>-0.023256</td>\n",
       "      <td>-0.190282</td>\n",
       "      <td>1.000000</td>\n",
       "    </tr>\n",
       "  </tbody>\n",
       "</table>\n",
       "</div>"
      ],
      "text/plain": [
       "                WAGES  AGRI_SAL  CASH_ABROAD\n",
       "WAGES        1.000000  0.320024    -0.023256\n",
       "AGRI_SAL     0.320024  1.000000    -0.190282\n",
       "CASH_ABROAD -0.023256 -0.190282     1.000000"
      ]
     },
     "execution_count": 624,
     "metadata": {},
     "output_type": "execute_result"
    }
   ],
   "source": [
    "correlation_test = incexp_df[['WAGES','AGRI_SAL', 'CASH_ABROAD']]\n",
    "correlation_test.corr()"
   ]
  },
  {
   "cell_type": "markdown",
   "metadata": {
    "id": "OLOVj7lmFdBL"
   },
   "source": [
    "Here, we can see that the correlation value between `WAGES` and `AGRI_SAL` is 0.010084, which is very close to 0, which means there's no significant correlation between these two features.\n",
    "\n",
    "Same goes for `CASH_ABROAD` and `AGRI_SAL`, which results to a negative value closer to 0."
   ]
  },
  {
   "cell_type": "code",
   "execution_count": 626,
   "metadata": {
    "colab": {
     "base_uri": "https://localhost:8080/",
     "height": 206
    },
    "executionInfo": {
     "elapsed": 14,
     "status": "ok",
     "timestamp": 1742031435300,
     "user": {
      "displayName": "Joaquin Andres Rodriguez",
      "userId": "10473083297834192702"
     },
     "user_tz": -480
    },
    "id": "InzxQQeBGQkE",
    "outputId": "1240fadf-945c-41fa-a6dd-7b0442475d45"
   },
   "outputs": [
    {
     "data": {
      "text/html": [
       "<div>\n",
       "<style scoped>\n",
       "    .dataframe tbody tr th:only-of-type {\n",
       "        vertical-align: middle;\n",
       "    }\n",
       "\n",
       "    .dataframe tbody tr th {\n",
       "        vertical-align: top;\n",
       "    }\n",
       "\n",
       "    .dataframe thead th {\n",
       "        text-align: right;\n",
       "    }\n",
       "</style>\n",
       "<table border=\"1\" class=\"dataframe\">\n",
       "  <thead>\n",
       "    <tr style=\"text-align: right;\">\n",
       "      <th></th>\n",
       "      <th>EAINC</th>\n",
       "      <th>TOINC</th>\n",
       "      <th>CASH_DOMESTIC</th>\n",
       "      <th>CASH_ABROAD</th>\n",
       "      <th>PCINC</th>\n",
       "    </tr>\n",
       "  </thead>\n",
       "  <tbody>\n",
       "    <tr>\n",
       "      <th>EAINC</th>\n",
       "      <td>1.000000</td>\n",
       "      <td>-0.008118</td>\n",
       "      <td>-0.010971</td>\n",
       "      <td>-0.080238</td>\n",
       "      <td>-0.131301</td>\n",
       "    </tr>\n",
       "    <tr>\n",
       "      <th>TOINC</th>\n",
       "      <td>-0.008118</td>\n",
       "      <td>1.000000</td>\n",
       "      <td>-0.195317</td>\n",
       "      <td>0.370894</td>\n",
       "      <td>0.748728</td>\n",
       "    </tr>\n",
       "    <tr>\n",
       "      <th>CASH_DOMESTIC</th>\n",
       "      <td>-0.010971</td>\n",
       "      <td>-0.195317</td>\n",
       "      <td>1.000000</td>\n",
       "      <td>-0.096768</td>\n",
       "      <td>-0.254031</td>\n",
       "    </tr>\n",
       "    <tr>\n",
       "      <th>CASH_ABROAD</th>\n",
       "      <td>-0.080238</td>\n",
       "      <td>0.370894</td>\n",
       "      <td>-0.096768</td>\n",
       "      <td>1.000000</td>\n",
       "      <td>0.363711</td>\n",
       "    </tr>\n",
       "    <tr>\n",
       "      <th>PCINC</th>\n",
       "      <td>-0.131301</td>\n",
       "      <td>0.748728</td>\n",
       "      <td>-0.254031</td>\n",
       "      <td>0.363711</td>\n",
       "      <td>1.000000</td>\n",
       "    </tr>\n",
       "  </tbody>\n",
       "</table>\n",
       "</div>"
      ],
      "text/plain": [
       "                  EAINC     TOINC  CASH_DOMESTIC  CASH_ABROAD     PCINC\n",
       "EAINC          1.000000 -0.008118      -0.010971    -0.080238 -0.131301\n",
       "TOINC         -0.008118  1.000000      -0.195317     0.370894  0.748728\n",
       "CASH_DOMESTIC -0.010971 -0.195317       1.000000    -0.096768 -0.254031\n",
       "CASH_ABROAD   -0.080238  0.370894      -0.096768     1.000000  0.363711\n",
       "PCINC         -0.131301  0.748728      -0.254031     0.363711  1.000000"
      ]
     },
     "execution_count": 626,
     "metadata": {},
     "output_type": "execute_result"
    }
   ],
   "source": [
    "correlation_test = incexp_df[['EAINC','TOINC', 'CASH_DOMESTIC', 'CASH_ABROAD', 'PCINC']]\n",
    "correlation_test.corr()"
   ]
  },
  {
   "cell_type": "code",
   "execution_count": 627,
   "metadata": {
    "colab": {
     "base_uri": "https://localhost:8080/",
     "height": 112
    },
    "executionInfo": {
     "elapsed": 3,
     "status": "ok",
     "timestamp": 1742031435304,
     "user": {
      "displayName": "Joaquin Andres Rodriguez",
      "userId": "10473083297834192702"
     },
     "user_tz": -480
    },
    "id": "muYA2lTUIrJw",
    "outputId": "2a8487f9-213d-481a-bd59-41c5df3459e3"
   },
   "outputs": [
    {
     "data": {
      "text/html": [
       "<div>\n",
       "<style scoped>\n",
       "    .dataframe tbody tr th:only-of-type {\n",
       "        vertical-align: middle;\n",
       "    }\n",
       "\n",
       "    .dataframe tbody tr th {\n",
       "        vertical-align: top;\n",
       "    }\n",
       "\n",
       "    .dataframe thead th {\n",
       "        text-align: right;\n",
       "    }\n",
       "</style>\n",
       "<table border=\"1\" class=\"dataframe\">\n",
       "  <thead>\n",
       "    <tr style=\"text-align: right;\">\n",
       "      <th></th>\n",
       "      <th>WAGES</th>\n",
       "      <th>PCINC</th>\n",
       "    </tr>\n",
       "  </thead>\n",
       "  <tbody>\n",
       "    <tr>\n",
       "      <th>WAGES</th>\n",
       "      <td>1.000000</td>\n",
       "      <td>0.139017</td>\n",
       "    </tr>\n",
       "    <tr>\n",
       "      <th>PCINC</th>\n",
       "      <td>0.139017</td>\n",
       "      <td>1.000000</td>\n",
       "    </tr>\n",
       "  </tbody>\n",
       "</table>\n",
       "</div>"
      ],
      "text/plain": [
       "          WAGES     PCINC\n",
       "WAGES  1.000000  0.139017\n",
       "PCINC  0.139017  1.000000"
      ]
     },
     "execution_count": 627,
     "metadata": {},
     "output_type": "execute_result"
    }
   ],
   "source": [
    "correlation_test = incexp_df[['WAGES','PCINC']]\n",
    "correlation_test.corr()"
   ]
  },
  {
   "cell_type": "code",
   "execution_count": 628,
   "metadata": {
    "colab": {
     "base_uri": "https://localhost:8080/",
     "height": 175
    },
    "executionInfo": {
     "elapsed": 14,
     "status": "ok",
     "timestamp": 1742031435319,
     "user": {
      "displayName": "Joaquin Andres Rodriguez",
      "userId": "10473083297834192702"
     },
     "user_tz": -480
    },
    "id": "r8_qP69XJpI0",
    "outputId": "6dc883b5-1a11-421b-e24c-88b56414565a"
   },
   "outputs": [
    {
     "data": {
      "text/html": [
       "<div>\n",
       "<style scoped>\n",
       "    .dataframe tbody tr th:only-of-type {\n",
       "        vertical-align: middle;\n",
       "    }\n",
       "\n",
       "    .dataframe tbody tr th {\n",
       "        vertical-align: top;\n",
       "    }\n",
       "\n",
       "    .dataframe thead th {\n",
       "        text-align: right;\n",
       "    }\n",
       "</style>\n",
       "<table border=\"1\" class=\"dataframe\">\n",
       "  <thead>\n",
       "    <tr style=\"text-align: right;\">\n",
       "      <th></th>\n",
       "      <th>T_RENTVAL</th>\n",
       "      <th>T_ACTRENT</th>\n",
       "      <th>T_IMPUTED_RENT</th>\n",
       "      <th>T_BIMPUTED_RENT</th>\n",
       "    </tr>\n",
       "  </thead>\n",
       "  <tbody>\n",
       "    <tr>\n",
       "      <th>T_RENTVAL</th>\n",
       "      <td>1.00000</td>\n",
       "      <td>NaN</td>\n",
       "      <td>0.90586</td>\n",
       "      <td>NaN</td>\n",
       "    </tr>\n",
       "    <tr>\n",
       "      <th>T_ACTRENT</th>\n",
       "      <td>NaN</td>\n",
       "      <td>NaN</td>\n",
       "      <td>NaN</td>\n",
       "      <td>NaN</td>\n",
       "    </tr>\n",
       "    <tr>\n",
       "      <th>T_IMPUTED_RENT</th>\n",
       "      <td>0.90586</td>\n",
       "      <td>NaN</td>\n",
       "      <td>1.00000</td>\n",
       "      <td>NaN</td>\n",
       "    </tr>\n",
       "    <tr>\n",
       "      <th>T_BIMPUTED_RENT</th>\n",
       "      <td>NaN</td>\n",
       "      <td>NaN</td>\n",
       "      <td>NaN</td>\n",
       "      <td>NaN</td>\n",
       "    </tr>\n",
       "  </tbody>\n",
       "</table>\n",
       "</div>"
      ],
      "text/plain": [
       "                 T_RENTVAL  T_ACTRENT  T_IMPUTED_RENT  T_BIMPUTED_RENT\n",
       "T_RENTVAL          1.00000        NaN         0.90586              NaN\n",
       "T_ACTRENT              NaN        NaN             NaN              NaN\n",
       "T_IMPUTED_RENT     0.90586        NaN         1.00000              NaN\n",
       "T_BIMPUTED_RENT        NaN        NaN             NaN              NaN"
      ]
     },
     "execution_count": 628,
     "metadata": {},
     "output_type": "execute_result"
    }
   ],
   "source": [
    "correlation_test = incexp_df[['T_RENTVAL','T_ACTRENT', 'T_IMPUTED_RENT', 'T_BIMPUTED_RENT']]\n",
    "correlation_test.corr()"
   ]
  },
  {
   "cell_type": "markdown",
   "metadata": {
    "id": "QaDKuzlHHo-S"
   },
   "source": [
    "# Improving Model Performance"
   ]
  },
  {
   "cell_type": "markdown",
   "metadata": {},
   "source": [
    "## KFold for same train and test split for all models"
   ]
  },
  {
   "cell_type": "code",
   "execution_count": 631,
   "metadata": {},
   "outputs": [],
   "source": [
    "from sklearn.model_selection import KFold\n",
    "kf = KFold(n_splits=5, shuffle=True, random_state=42)"
   ]
  },
  {
   "cell_type": "markdown",
   "metadata": {},
   "source": [
    "## Logistic Regression for Predicting if Household has Electricity"
   ]
  },
  {
   "cell_type": "code",
   "execution_count": 633,
   "metadata": {},
   "outputs": [],
   "source": [
    "from sklearn.model_selection import train_test_split\n",
    "from sklearn.preprocessing import StandardScaler\n",
    "from sklearn.linear_model import LogisticRegression\n",
    "from sklearn.metrics import accuracy_score, classification_report\n",
    "\n",
    "# Define features and target variable\n",
    "X = incexp_df[selected_features]  # Using the selected features from RFE\n",
    "y = incexp_df['ELECTRIC']\n",
    "\n",
    "# Split dataset into training and testing sets (80% train, 20% test)\n",
    "X_train, X_test, y_train, y_test = train_test_split(X, y, test_size=0.2, random_state=42)"
   ]
  },
  {
   "cell_type": "markdown",
   "metadata": {},
   "source": [
    "## Naive Bayes for Predicting if Household has Electricity"
   ]
  },
  {
   "cell_type": "code",
   "execution_count": 635,
   "metadata": {},
   "outputs": [],
   "source": [
    "from sklearn.naive_bayes import GaussianNB\n",
    "naive_bayes = GaussianNB()"
   ]
  },
  {
   "cell_type": "code",
   "execution_count": 636,
   "metadata": {},
   "outputs": [
    {
     "data": {
      "text/plain": [
       "array([2, 1, 2, ..., 2, 1, 2], dtype=int64)"
      ]
     },
     "execution_count": 636,
     "metadata": {},
     "output_type": "execute_result"
    }
   ],
   "source": [
    "naive_bayes.fit(X_train, y_train)\n",
    "\n",
    "predictions = naive_bayes.predict(X_train)\n",
    "predictions"
   ]
  },
  {
   "cell_type": "code",
   "execution_count": 637,
   "metadata": {},
   "outputs": [
    {
     "name": "stdout",
     "output_type": "stream",
     "text": [
      "Training accuracy:  55.83017975402081 %\n"
     ]
    }
   ],
   "source": [
    "def compute_accuracy(predictions, actual):\n",
    "    num_correct = (predictions == actual).sum()\n",
    "    accuracy = num_correct / predictions.shape[0] * 100\n",
    "    return accuracy\n",
    "\n",
    "print(\"Training accuracy: \", compute_accuracy(predictions, y_train), \"%\")"
   ]
  },
  {
   "cell_type": "code",
   "execution_count": 638,
   "metadata": {},
   "outputs": [
    {
     "name": "stdout",
     "output_type": "stream",
     "text": [
      "Test accuracy:  57.19016083254493 %\n"
     ]
    }
   ],
   "source": [
    "predictions = naive_bayes.predict(X_test)\n",
    "predictions\n",
    "\n",
    "print(\"Test accuracy: \", compute_accuracy(predictions, y_test), \"%\")"
   ]
  },
  {
   "cell_type": "code",
   "execution_count": 639,
   "metadata": {},
   "outputs": [
    {
     "name": "stdout",
     "output_type": "stream",
     "text": [
      "[4217. 4239.]\n",
      "[0.49869915 0.50130085]\n"
     ]
    }
   ],
   "source": [
    "print(naive_bayes.class_count_)\n",
    "print(naive_bayes.class_prior_)"
   ]
  },
  {
   "cell_type": "code",
   "execution_count": 640,
   "metadata": {},
   "outputs": [
    {
     "name": "stdout",
     "output_type": "stream",
     "text": [
      "Average Accuracy: 55.68%\n"
     ]
    }
   ],
   "source": [
    "from sklearn.model_selection import KFold\n",
    "\n",
    "model = GaussianNB()\n",
    "kf = KFold(n_splits=5, shuffle=True, random_state=42)\n",
    "\n",
    "accuracies = []\n",
    "\n",
    "for train_index, test_index in kf.split(X):\n",
    "   \n",
    "    X_train, X_test = X.iloc[train_index], X.iloc[test_index]\n",
    "    y_train, y_test = y.iloc[train_index], y.iloc[test_index]\n",
    "    \n",
    "  \n",
    "    model.fit(X_train, y_train)\n",
    "    \n",
    "   \n",
    "    y_pred = model.predict(X_test)\n",
    "    accuracy = accuracy_score(y_test, y_pred)\n",
    "    accuracies.append(accuracy)\n",
    "\n",
    "print(f\"Average Accuracy: {np.mean(accuracies) * 100:.2f}%\")"
   ]
  },
  {
   "cell_type": "markdown",
   "metadata": {},
   "source": [
    "## KNN Classifier for Predicting if Household has Electricity"
   ]
  },
  {
   "cell_type": "code",
   "execution_count": 642,
   "metadata": {},
   "outputs": [],
   "source": [
    "from sklearn.neighbors import KNeighborsClassifier\n",
    "knn_classifier = KNeighborsClassifier()"
   ]
  },
  {
   "cell_type": "code",
   "execution_count": 643,
   "metadata": {},
   "outputs": [
    {
     "data": {
      "text/plain": [
       "array([1, 1, 2, ..., 1, 1, 2], dtype=int64)"
      ]
     },
     "execution_count": 643,
     "metadata": {},
     "output_type": "execute_result"
    }
   ],
   "source": [
    "knn_classifier.fit(X_train, y_train)\n",
    "\n",
    "k_prediction = knn_classifier.predict(X_train)\n",
    "k_prediction"
   ]
  },
  {
   "cell_type": "code",
   "execution_count": 644,
   "metadata": {},
   "outputs": [
    {
     "name": "stdout",
     "output_type": "stream",
     "text": [
      "Training accuracy:  81.66982024597918 %\n"
     ]
    }
   ],
   "source": [
    "print(\"Training accuracy: \",compute_accuracy(k_prediction, y_train), '%')"
   ]
  },
  {
   "cell_type": "code",
   "execution_count": 645,
   "metadata": {},
   "outputs": [
    {
     "data": {
      "text/plain": [
       "array([2, 2, 2, ..., 2, 2, 1], dtype=int64)"
      ]
     },
     "execution_count": 645,
     "metadata": {},
     "output_type": "execute_result"
    }
   ],
   "source": [
    "k_prediction = knn_classifier.predict(X_test)\n",
    "k_prediction"
   ]
  },
  {
   "cell_type": "code",
   "execution_count": 646,
   "metadata": {},
   "outputs": [
    {
     "name": "stdout",
     "output_type": "stream",
     "text": [
      "Test accuracy:  71.42857142857143 %\n"
     ]
    }
   ],
   "source": [
    "print(\"Test accuracy: \", compute_accuracy(k_prediction, y_test), '%')"
   ]
  },
  {
   "cell_type": "markdown",
   "metadata": {},
   "source": [
    "## All Models and their Outputs"
   ]
  },
  {
   "cell_type": "code",
   "execution_count": 686,
   "metadata": {},
   "outputs": [
    {
     "name": "stdout",
     "output_type": "stream",
     "text": [
      "\n",
      "Model: Logistic Regression\n",
      "Fold 1 Accuracy: 49.48%\n",
      "Fold 2 Accuracy: 49.57%\n",
      "Fold 3 Accuracy: 51.42%\n",
      "Fold 4 Accuracy: 48.49%\n",
      "Fold 5 Accuracy: 51.04%\n",
      "Average Accuracy for Logistic Regression: 50.00%\n",
      "Classification Report for Logistic Regression (Last Fold):\n",
      "              precision    recall  f1-score   support\n",
      "\n",
      "           1       1.00      0.00      0.00      1035\n",
      "           2       0.51      1.00      0.68      1079\n",
      "\n",
      "    accuracy                           0.51      2114\n",
      "   macro avg       0.76      0.50      0.34      2114\n",
      "weighted avg       0.75      0.51      0.34      2114\n",
      "\n",
      "\n",
      "Model: Naive Bayes\n",
      "Fold 1 Accuracy: 57.19%\n",
      "Fold 2 Accuracy: 56.20%\n",
      "Fold 3 Accuracy: 55.16%\n",
      "Fold 4 Accuracy: 54.87%\n",
      "Fold 5 Accuracy: 54.97%\n",
      "Average Accuracy for Naive Bayes: 55.68%\n",
      "Classification Report for Naive Bayes (Last Fold):\n",
      "              precision    recall  f1-score   support\n",
      "\n",
      "           1       0.55      0.46      0.50      1035\n",
      "           2       0.55      0.64      0.59      1079\n",
      "\n",
      "    accuracy                           0.55      2114\n",
      "   macro avg       0.55      0.55      0.55      2114\n",
      "weighted avg       0.55      0.55      0.55      2114\n",
      "\n",
      "\n",
      "Model: K-Nearest Neighbors\n",
      "Fold 1 Accuracy: 74.65%\n",
      "Fold 2 Accuracy: 74.79%\n",
      "Fold 3 Accuracy: 74.65%\n",
      "Fold 4 Accuracy: 74.22%\n",
      "Fold 5 Accuracy: 72.66%\n",
      "Average Accuracy for K-Nearest Neighbors: 74.19%\n",
      "Classification Report for K-Nearest Neighbors (Last Fold):\n",
      "              precision    recall  f1-score   support\n",
      "\n",
      "           1       0.70      0.76      0.73      1035\n",
      "           2       0.75      0.69      0.72      1079\n",
      "\n",
      "    accuracy                           0.73      2114\n",
      "   macro avg       0.73      0.73      0.73      2114\n",
      "weighted avg       0.73      0.73      0.73      2114\n",
      "\n"
     ]
    }
   ],
   "source": [
    "from sklearn.model_selection import KFold\n",
    "from sklearn.preprocessing import StandardScaler\n",
    "from sklearn.linear_model import LogisticRegression\n",
    "from sklearn.naive_bayes import GaussianNB\n",
    "from sklearn.neighbors import KNeighborsClassifier\n",
    "from sklearn.metrics import accuracy_score, classification_report\n",
    "import numpy as np\n",
    "\n",
    "# Define features and target variable\n",
    "X = incexp_df[selected_features]  # Using the selected features from RFE\n",
    "y = incexp_df['ELECTRIC']\n",
    "\n",
    "# Dictionary to store model names and their instances\n",
    "models = {\n",
    "    \"Logistic Regression\": LogisticRegression(),\n",
    "    \"Naive Bayes\": GaussianNB(),\n",
    "    \"K-Nearest Neighbors\": KNeighborsClassifier(weights='distance')\n",
    "}\n",
    "\n",
    "# K-Fold Cross-Validation (K=5)\n",
    "kf = KFold(n_splits=5, shuffle=True, random_state=42)\n",
    "\n",
    "# Iterate through each model\n",
    "for model_name, model in models.items():\n",
    "    accuracies = []\n",
    "    print(f\"\\nModel: {model_name}\")\n",
    "    \n",
    "    # Perform K-Fold Cross-Validation\n",
    "    for fold, (train_index, test_index) in enumerate(kf.split(X), 1):\n",
    "        # Use iloc[] for row selection\n",
    "        X_train, X_test = X.iloc[train_index], X.iloc[test_index]\n",
    "        y_train, y_test = y.iloc[train_index], y.iloc[test_index]\n",
    "        \n",
    "        # Train the model\n",
    "        model.fit(X_train, y_train)\n",
    "        \n",
    "        # Predict using the model\n",
    "        y_pred = model.predict(X_test)\n",
    "        \n",
    "        # Calculate accuracy\n",
    "        accuracy = accuracy_score(y_test, y_pred)\n",
    "        accuracies.append(accuracy)\n",
    "        \n",
    "        print(f\"Fold {fold} Accuracy: {accuracy * 100:.2f}%\")\n",
    "\n",
    "    # Average accuracy over all folds\n",
    "    avg_accuracy = np.mean(accuracies) * 100\n",
    "    print(f\"Average Accuracy for {model_name}: {avg_accuracy:.2f}%\")\n",
    "    print(f\"Classification Report for {model_name} (Last Fold):\\n{classification_report(y_test, y_pred, zero_division=1)}\")\n"
   ]
  },
  {
   "cell_type": "markdown",
   "metadata": {
    "id": "LK36-uuZHmej"
   },
   "source": [
    "# Error Analysis"
   ]
  },
  {
   "cell_type": "markdown",
   "metadata": {
    "id": "-iUZdLurHsC2"
   },
   "source": []
  },
  {
   "cell_type": "markdown",
   "metadata": {
    "id": "LK36-uuZHmej"
   },
   "source": [
    "# Improving Model Performance"
   ]
  },
  {
   "cell_type": "markdown",
   "metadata": {
    "id": "XQndh-i9HsTW"
   },
   "source": [
    "# Model Performance Summary"
   ]
  },
  {
   "cell_type": "markdown",
   "metadata": {
    "id": "8Z2hkpmbHwzN"
   },
   "source": []
  },
  {
   "cell_type": "markdown",
   "metadata": {
    "id": "K5q8O4nHHxAS"
   },
   "source": [
    "# Insights and Conclusions"
   ]
  },
  {
   "cell_type": "markdown",
   "metadata": {
    "id": "J1FRKBmpH0v1"
   },
   "source": []
  },
  {
   "cell_type": "markdown",
   "metadata": {
    "id": "TP0qH6c-H08H"
   },
   "source": [
    "# References"
   ]
  },
  {
   "cell_type": "markdown",
   "metadata": {
    "id": "AQyPoOTEDmjo"
   },
   "source": [
    "AI Tools were utilized for this work, namely ChatGPT."
   ]
  }
 ],
 "metadata": {
  "colab": {
   "provenance": []
  },
  "kernelspec": {
   "display_name": "Python 3 (ipykernel)",
   "language": "python",
   "name": "python3"
  },
  "language_info": {
   "codemirror_mode": {
    "name": "ipython",
    "version": 3
   },
   "file_extension": ".py",
   "mimetype": "text/x-python",
   "name": "python",
   "nbconvert_exporter": "python",
   "pygments_lexer": "ipython3",
   "version": "3.12.3"
  }
 },
 "nbformat": 4,
 "nbformat_minor": 4
}
